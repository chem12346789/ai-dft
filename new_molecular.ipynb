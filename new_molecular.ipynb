{
 "cells": [
  {
   "cell_type": "code",
   "execution_count": 4,
   "metadata": {},
   "outputs": [
    {
     "name": "stdout",
     "output_type": "stream",
     "text": [
      "====================================================================================================\n",
      "Layer (type:depth-idx)                             Output Shape              Param #\n",
      "====================================================================================================\n",
      "UnetPlusPlus                                       [110, 2, 96, 320]         --\n",
      "├─EfficientNetEncoder: 1-1                         [110, 1, 96, 320]         10,695,512\n",
      "├─UnetPlusPlusDecoder: 1-2                         [110, 16, 96, 320]        2,928,416\n",
      "├─SegmentationHead: 1-3                            [110, 2, 96, 320]         290\n",
      "====================================================================================================\n",
      "Total params: 13,624,218\n",
      "Trainable params: 13,624,218\n",
      "Non-trainable params: 0\n",
      "Total mult-adds (Units.GIGABYTES): 396.26\n",
      "====================================================================================================\n",
      "Input size (MB): 27.03\n",
      "Forward/backward pass size (MB): 28275.32\n",
      "Params size (MB): 103.58\n",
      "Estimated Total Size (MB): 28405.93\n",
      "====================================================================================================\n"
     ]
    }
   ],
   "source": [
    "from torchinfo import summary\n",
    "import segmentation_models_pytorch as smp\n",
    "\n",
    "import torch\n",
    "import torch.nn as nn\n",
    "\n",
    "device = torch.device(\"cuda\" if torch.cuda.is_available() else \"cpu\")\n",
    "\n",
    "# model = UNet(1, 1)\n",
    "model = smp.UnetPlusPlus(\n",
    "    encoder_name=\"timm-efficientnet-b3\",\n",
    "    in_channels=1,\n",
    "    classes=2,\n",
    ")\n",
    "model = model.to(device)\n",
    "model.double()\n",
    "\n",
    "print(\n",
    "    summary(\n",
    "        model,\n",
    "        input_size=(110, 1, 96, 320),\n",
    "        depth=1,\n",
    "        dtypes=[torch.float64],\n",
    "        mode=\"train\",\n",
    "    )\n",
    ")"
   ]
  },
  {
   "cell_type": "code",
   "execution_count": 3,
   "metadata": {},
   "outputs": [
    {
     "data": {
      "text/plain": [
       "34452.34"
      ]
     },
     "execution_count": 3,
     "metadata": {},
     "output_type": "execute_result"
    }
   ],
   "source": [
    "34398.28 + 27.03 * 2"
   ]
  },
  {
   "cell_type": "code",
   "execution_count": null,
   "metadata": {},
   "outputs": [],
   "source": []
  }
 ],
 "metadata": {
  "kernelspec": {
   "display_name": "pyscf",
   "language": "python",
   "name": "python3"
  },
  "language_info": {
   "codemirror_mode": {
    "name": "ipython",
    "version": 3
   },
   "file_extension": ".py",
   "mimetype": "text/x-python",
   "name": "python",
   "nbconvert_exporter": "python",
   "pygments_lexer": "ipython3",
   "version": "3.11.5"
  }
 },
 "nbformat": 4,
 "nbformat_minor": 2
}
