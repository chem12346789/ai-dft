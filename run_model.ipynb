{
 "cells": [
  {
   "cell_type": "code",
   "execution_count": 1,
   "metadata": {},
   "outputs": [
    {
     "name": "stderr",
     "output_type": "stream",
     "text": [
      "/home/dhem/anaconda3/envs/pyscf/lib/python3.11/site-packages/pyscf/dft/libxc.py:771: UserWarning: Since PySCF-2.3, B3LYP (and B3P86) are changed to the VWN-RPA variant, corresponding to the original definition by Stephens et al. (issue 1480) and the same as the B3LYP functional in Gaussian. To restore the VWN5 definition, you can put the setting \"B3LYP_WITH_VWN5 = True\" in pyscf_conf.py\n",
      "  warnings.warn('Since PySCF-2.3, B3LYP (and B3P86) are changed to the VWN-RPA variant, '\n"
     ]
    }
   ],
   "source": [
    "from pathlib import Path\n",
    "import copy\n",
    "from tqdm import tqdm \n",
    "\n",
    "import torch\n",
    "import pyscf\n",
    "import numpy as np\n",
    "import opt_einsum as oe\n",
    "\n",
    "from cadft.utils import Grid\n",
    "from cadft import CC_DFT_DATA, Mol\n"
   ]
  },
  {
   "cell_type": "code",
   "execution_count": 2,
   "metadata": {},
   "outputs": [],
   "source": [
    "molecular = copy.deepcopy(Mol[\"Pentane\"])\n",
    "molecular[0][1] += 0.12345\n",
    "\n",
    "dft2cc = CC_DFT_DATA(\n",
    "    molecular,\n",
    "    name=\"test\",\n",
    "    basis=\"cc-pvdz\",\n",
    "    if_basis_str=True,\n",
    ")\n",
    "\n",
    "mf = pyscf.scf.RHF(dft2cc.mol)\n",
    "mf.kernel()\n",
    "mycc = pyscf.cc.CCSD(mf)\n",
    "mycc.kernel()\n",
    "dm1_cc = mycc.make_rdm1(ao_repr=True)\n",
    "dm2_cc = mycc.make_rdm2(ao_repr=True)\n",
    "e_cc = mycc.e_tot\n",
    "\n",
    "mdft = pyscf.scf.RKS(dft2cc.mol)\n",
    "mdft.xc = \"b3lyp\"\n",
    "mdft.kernel()\n",
    "e_dft = mdft.e_tot\n",
    "dm1_dft = mdft.make_rdm1(ao_repr=True)\n",
    "\n",
    "grids = Grid(dft2cc.mol)\n",
    "coords = grids.coords\n",
    "weights = grids.weights\n",
    "ao_2 = pyscf.dft.numint.eval_ao(dft2cc.mol, coords, deriv=2)\n",
    "ao_0 = ao_2[0, :, :]\n",
    "ao_value = ao_2[:4, :, :]\n",
    "ao_2_diag = ao_2[4, :, :] + ao_2[7, :, :] + ao_2[9, :, :]\n",
    "\n",
    "rho_dft = pyscf.dft.numint.eval_rho(dft2cc.mol, ao_value, dm1_dft, xctype=\"GGA\")\n",
    "rho_cc = pyscf.dft.numint.eval_rho(dft2cc.mol, ao_value, dm1_cc, xctype=\"GGA\")\n",
    "\n",
    "rho_dft_grids = grids.vector_to_matrix(rho_dft[0])\n",
    "rho_cc_grids = grids.vector_to_matrix(rho_cc[0])"
   ]
  },
  {
   "cell_type": "code",
   "execution_count": 3,
   "metadata": {},
   "outputs": [
    {
     "name": "stderr",
     "output_type": "stream",
     "text": [
      "  0%|          | 0/45300 [00:00<?, ?it/s]"
     ]
    },
    {
     "name": "stderr",
     "output_type": "stream",
     "text": [
      "100%|██████████| 45300/45300 [00:20<00:00, 2217.57it/s]"
     ]
    },
    {
     "name": "stdout",
     "output_type": "stream",
     "text": [
      "Error: 0.00001 mHa\n"
     ]
    },
    {
     "name": "stderr",
     "output_type": "stream",
     "text": [
      "\n"
     ]
    }
   ],
   "source": [
    "exc_over_dm_cc_grids = np.zeros_like(rho_dft[0])\n",
    "exc_over_dm_cc_grids = -pyscf.dft.libxc.eval_xc(\"b3lyp\", rho_dft)[0] * rho_dft[0]\n",
    "expr_rinv_dm2_r = oe.contract_expression(\n",
    "    \"ijkl,i,j,kl->\",\n",
    "    0.5 * (dm2_cc - oe.contract(\"pq,rs->pqrs\", dm1_dft, dm1_dft))\n",
    "    + 0.05 * oe.contract(\"pr,qs->pqrs\", dm1_dft, dm1_dft),\n",
    "    (dft2cc.mol.nao,),\n",
    "    (dft2cc.mol.nao,),\n",
    "    (dft2cc.mol.nao, dft2cc.mol.nao),\n",
    "    constants=[0],\n",
    "    optimize=\"optimal\",\n",
    ")\n",
    "\n",
    "for i, coord in enumerate(tqdm(coords)):\n",
    "    ao_0_i = ao_value[0][i]\n",
    "    if np.linalg.norm(ao_0_i) < 1e-10:\n",
    "        continue\n",
    "    with dft2cc.mol.with_rinv_origin(coord):\n",
    "        rinv = dft2cc.mol.intor(\"int1e_rinv\")\n",
    "        exc_over_dm_cc_grids[i] += expr_rinv_dm2_r(ao_0_i, ao_0_i, rinv)\n",
    "\n",
    "    for i_atom in range(dft2cc.mol.natm):\n",
    "        exc_over_dm_cc_grids[i] -= (\n",
    "            (rho_cc[0][i] - rho_dft[0][i])\n",
    "            * dft2cc.mol.atom_charges()[i_atom]\n",
    "            / np.linalg.norm(dft2cc.mol.atom_coords()[i_atom] - coord)\n",
    "        )\n",
    "\n",
    "dm1_cc_mo = mycc.make_rdm1(ao_repr=False)\n",
    "eigs_e_dm1, eigs_v_dm1 = np.linalg.eigh(dm1_cc_mo)\n",
    "eigs_v_dm1 = mf.mo_coeff @ eigs_v_dm1\n",
    "for i in range(np.shape(eigs_v_dm1)[1]):\n",
    "    part = oe.contract(\n",
    "        \"pm,m,n,pn->p\",\n",
    "        ao_0,\n",
    "        eigs_v_dm1[:, i],\n",
    "        eigs_v_dm1[:, i],\n",
    "        ao_2_diag,\n",
    "    )\n",
    "    exc_over_dm_cc_grids += -part * eigs_e_dm1[i] / 2\n",
    "\n",
    "for i in range(dft2cc.mol.nelec[0]):\n",
    "    part = oe.contract(\n",
    "        \"pm,m,n,pn->p\",\n",
    "        ao_0,\n",
    "        mdft.mo_coeff[:, i],\n",
    "        mdft.mo_coeff[:, i],\n",
    "        ao_2_diag,\n",
    "    )\n",
    "    exc_over_dm_cc_grids += part\n",
    "\n",
    "error = np.sum(exc_over_dm_cc_grids * weights) - (e_cc - e_dft)\n",
    "\n",
    "print(f\"Error: {(1e3 * error):.5f} mHa\")"
   ]
  },
  {
   "cell_type": "code",
   "execution_count": 4,
   "metadata": {},
   "outputs": [],
   "source": [
    "ene_cc_grids = grids.vector_to_matrix(exc_over_dm_cc_grids)\n",
    "rho_cc_grids_pred = np.zeros_like(ene_cc_grids)\n",
    "ene_cc_grids_pred = np.zeros_like(ene_cc_grids)"
   ]
  },
  {
   "cell_type": "code",
   "execution_count": 5,
   "metadata": {},
   "outputs": [
    {
     "name": "stdout",
     "output_type": "stream",
     "text": [
      "Model loaded from checkpoints/checkpoint-ccdft-2024-05-31-11-36-26-200/1-2500.pth\n",
      "Model loaded from checkpoints/checkpoint-ccdft-2024-05-31-11-36-26-200/2-2500.pth\n"
     ]
    }
   ],
   "source": [
    "from cadft.utils import ModelDict\n",
    "\n",
    "Modeldict = ModelDict(200, 3, 1, \"cuda\")\n",
    "Modeldict.load_model(\"2024-05-31-11-36-26\")"
   ]
  },
  {
   "cell_type": "code",
   "execution_count": 6,
   "metadata": {},
   "outputs": [
    {
     "data": {
      "text/plain": [
       "46.93391122537693"
      ]
     },
     "execution_count": 6,
     "metadata": {},
     "output_type": "execute_result"
    }
   ],
   "source": [
    "ene_ = 0\n",
    "for i_atom in range(rho_dft_grids.shape[0]):\n",
    "    for i in range(rho_dft_grids.shape[1]):\n",
    "        input_ = rho_dft_grids[i_atom, i, :]\n",
    "        input_gpu = torch.tensor(input_, dtype=torch.float64).to(\"cuda\")\n",
    "        output_ = Modeldict.model_dict[\"1\"](input_gpu).detach().cpu().numpy()\n",
    "        rho_cc_grids_pred[i_atom, i, :] = output_ / 1000 + input_\n",
    "        output_ = Modeldict.model_dict[\"2\"](input_gpu).detach().cpu().numpy()\n",
    "        ene_cc_grids_pred[i_atom, i, :] = output_ / 1000\n",
    "        ene_ += np.sum(output_)\n",
    "ene_ - (e_cc - e_dft) * 1000"
   ]
  },
  {
   "cell_type": "code",
   "execution_count": 7,
   "metadata": {},
   "outputs": [
    {
     "name": "stdout",
     "output_type": "stream",
     "text": [
      "0.03085302682074169\n",
      "0.01546141519926766\n"
     ]
    }
   ],
   "source": [
    "print(np.sum(np.abs(grids.matrix_to_vector(rho_cc_grids_pred - rho_cc_grids) * weights)))\n",
    "print(np.sum(np.abs(grids.matrix_to_vector(rho_dft_grids - rho_cc_grids) * weights)))"
   ]
  },
  {
   "cell_type": "code",
   "execution_count": 11,
   "metadata": {},
   "outputs": [
    {
     "name": "stdout",
     "output_type": "stream",
     "text": [
      "7.512282984314143e-05\n",
      "5.891937093377168e-06\n",
      "0.04693390471250075\n"
     ]
    }
   ],
   "source": [
    "print(\n",
    "    np.max(\n",
    "        np.abs(\n",
    "            grids.matrix_to_vector(ene_cc_grids_pred)\n",
    "            - grids.matrix_to_vector(ene_cc_grids) * weights\n",
    "        )\n",
    "    )\n",
    ")\n",
    "\n",
    "print(np.max(np.abs(grids.matrix_to_vector(ene_cc_grids) * weights)))\n",
    "\n",
    "print(\n",
    "    np.sum(\n",
    "        grids.matrix_to_vector(ene_cc_grids_pred)\n",
    "        - grids.matrix_to_vector(ene_cc_grids) * weights\n",
    "    )\n",
    ")"
   ]
  },
  {
   "cell_type": "code",
   "execution_count": null,
   "metadata": {},
   "outputs": [],
   "source": []
  }
 ],
 "metadata": {
  "kernelspec": {
   "display_name": "pyscf",
   "language": "python",
   "name": "python3"
  },
  "language_info": {
   "codemirror_mode": {
    "name": "ipython",
    "version": 3
   },
   "file_extension": ".py",
   "mimetype": "text/x-python",
   "name": "python",
   "nbconvert_exporter": "python",
   "pygments_lexer": "ipython3",
   "version": "3.11.5"
  }
 },
 "nbformat": 4,
 "nbformat_minor": 2
}
