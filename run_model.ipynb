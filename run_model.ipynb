{
 "cells": [
  {
   "cell_type": "code",
   "execution_count": 1,
   "metadata": {},
   "outputs": [
    {
     "name": "stderr",
     "output_type": "stream",
     "text": [
      "/home/dhem/anaconda3/envs/pyscf/lib/python3.11/site-packages/pyscf/dft/libxc.py:771: UserWarning: Since PySCF-2.3, B3LYP (and B3P86) are changed to the VWN-RPA variant, corresponding to the original definition by Stephens et al. (issue 1480) and the same as the B3LYP functional in Gaussian. To restore the VWN5 definition, you can put the setting \"B3LYP_WITH_VWN5 = True\" in pyscf_conf.py\n",
      "  warnings.warn('Since PySCF-2.3, B3LYP (and B3P86) are changed to the VWN-RPA variant, '\n"
     ]
    }
   ],
   "source": [
    "from pathlib import Path\n",
    "import copy\n",
    "\n",
    "import torch\n",
    "import pyscf\n",
    "import numpy as np\n",
    "\n",
    "from cadft.utils import Grid\n",
    "from cadft import CC_DFT_DATA, Mol"
   ]
  },
  {
   "cell_type": "code",
   "execution_count": 2,
   "metadata": {},
   "outputs": [],
   "source": [
    "molecular = copy.deepcopy(Mol[\"Methane\"])\n",
    "# molecular[0][1] += 0.1\n",
    "\n",
    "dft2cc = CC_DFT_DATA(\n",
    "    molecular,\n",
    "    name=\"test\",\n",
    "    basis=\"cc-pvdz\",\n",
    "    if_basis_str=True,\n",
    ")\n",
    "\n",
    "mf = pyscf.scf.RHF(dft2cc.mol)\n",
    "mf.kernel()\n",
    "mycc = pyscf.cc.CCSD(mf)\n",
    "mycc.kernel()\n",
    "\n",
    "dm1_cc = mycc.make_rdm1(ao_repr=True)\n",
    "e_cc = mycc.e_tot\n",
    "\n",
    "mdft = pyscf.scf.RKS(dft2cc.mol)\n",
    "mdft.xc = \"b3lyp\"\n",
    "mdft.kernel()\n",
    "e_dft = mdft.e_tot\n",
    "dm1_dft = mdft.make_rdm1(ao_repr=True)\n",
    "\n",
    "grids = Grid(dft2cc.mol)\n",
    "coords = grids.coords\n",
    "weights = grids.weights\n",
    "ao_value = pyscf.dft.numint.eval_ao(dft2cc.mol, coords)\n",
    "\n",
    "rho_dft = pyscf.dft.numint.eval_rho(dft2cc.mol, ao_value, dm1_dft)\n",
    "rho_cc = pyscf.dft.numint.eval_rho(dft2cc.mol, ao_value, dm1_cc)\n",
    "\n",
    "rho_dft_grids = grids.vector_to_matrix(rho_dft)\n",
    "rho_cc_grids = grids.vector_to_matrix(rho_cc)\n",
    "rho_cc_grids_pred = np.zeros_like(rho_cc_grids)"
   ]
  },
  {
   "cell_type": "code",
   "execution_count": 3,
   "metadata": {},
   "outputs": [
    {
     "name": "stdout",
     "output_type": "stream",
     "text": [
      "Model loaded from checkpoints/checkpoint-ccdft-2024-05-31-11-36-26-200/1-2500.pth\n",
      "Model loaded from checkpoints/checkpoint-ccdft-2024-05-31-11-36-26-200/2-2500.pth\n"
     ]
    }
   ],
   "source": [
    "from cadft.utils import ModelDict\n",
    "\n",
    "Modeldict = ModelDict(200, 3, 1, \"cuda\")\n",
    "Modeldict.load_model(\"2024-05-31-11-36-26\")"
   ]
  },
  {
   "cell_type": "code",
   "execution_count": 9,
   "metadata": {},
   "outputs": [],
   "source": [
    "ene_ = 0\n",
    "for i_atom in range(rho_dft_grids.shape[0]):\n",
    "    for i in range(rho_dft_grids.shape[1]):\n",
    "        input_ = rho_dft_grids[i_atom, i, :]\n",
    "        input_gpu = torch.tensor(input_, dtype=torch.float64).to(\"cuda\")\n",
    "        output_ = Modeldict.model_dict[\"1\"](input_gpu).detach().cpu().numpy()\n",
    "        rho_cc_grids_pred[i_atom, i, :] = output_ / 1000 + input_\n",
    "        output_ = Modeldict.model_dict[\"2\"](input_gpu).detach().cpu().numpy()\n",
    "        ene_ += np.sum(output_)"
   ]
  },
  {
   "cell_type": "code",
   "execution_count": 10,
   "metadata": {},
   "outputs": [
    {
     "name": "stdout",
     "output_type": "stream",
     "text": [
      "0.03768786991178645\n",
      "0.10084003222728774\n"
     ]
    }
   ],
   "source": [
    "print(np.sum(np.abs(grids.matrix_to_vector(rho_cc_grids_pred - rho_cc_grids) * weights)))\n",
    "print(np.sum(np.abs(grids.matrix_to_vector(rho_dft_grids - rho_cc_grids) * weights)))"
   ]
  },
  {
   "cell_type": "code",
   "execution_count": 13,
   "metadata": {},
   "outputs": [
    {
     "data": {
      "text/plain": [
       "0.26613072138570715"
      ]
     },
     "execution_count": 13,
     "metadata": {},
     "output_type": "execute_result"
    }
   ],
   "source": [
    "e_dft * 1000 + ene_ - e_cc * 1000"
   ]
  }
 ],
 "metadata": {
  "kernelspec": {
   "display_name": "pyscf",
   "language": "python",
   "name": "python3"
  },
  "language_info": {
   "codemirror_mode": {
    "name": "ipython",
    "version": 3
   },
   "file_extension": ".py",
   "mimetype": "text/x-python",
   "name": "python",
   "nbconvert_exporter": "python",
   "pygments_lexer": "ipython3",
   "version": "3.11.5"
  }
 },
 "nbformat": 4,
 "nbformat_minor": 2
}
