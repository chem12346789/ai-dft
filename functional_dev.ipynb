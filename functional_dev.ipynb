{
 "cells": [
  {
   "cell_type": "code",
   "execution_count": 1,
   "metadata": {},
   "outputs": [
    {
     "name": "stderr",
     "output_type": "stream",
     "text": [
      "/home/dhem/anaconda3/envs/pyscf/lib/python3.11/site-packages/pyscf/dft/libxc.py:771: UserWarning: Since PySCF-2.3, B3LYP (and B3P86) are changed to the VWN-RPA variant, corresponding to the original definition by Stephens et al. (issue 1480) and the same as the B3LYP functional in Gaussian. To restore the VWN5 definition, you can put the setting \"B3LYP_WITH_VWN5 = True\" in pyscf_conf.py\n",
      "  warnings.warn('Since PySCF-2.3, B3LYP (and B3P86) are changed to the VWN-RPA variant, '\n"
     ]
    }
   ],
   "source": [
    "from pathlib import Path\n",
    "import copy\n",
    "\n",
    "import torch\n",
    "import pyscf\n",
    "import numpy as np\n",
    "\n",
    "from cadft.utils import Grid\n",
    "from cadft import CC_DFT_DATA, Mol"
   ]
  },
  {
   "cell_type": "code",
   "execution_count": 2,
   "metadata": {},
   "outputs": [
    {
     "ename": "KeyboardInterrupt",
     "evalue": "",
     "output_type": "error",
     "traceback": [
      "\u001b[0;31m---------------------------------------------------------------------------\u001b[0m",
      "\u001b[0;31mKeyboardInterrupt\u001b[0m                         Traceback (most recent call last)",
      "Cell \u001b[0;32mIn[2], line 16\u001b[0m\n\u001b[1;32m     13\u001b[0m mycc \u001b[38;5;241m=\u001b[39m pyscf\u001b[38;5;241m.\u001b[39mcc\u001b[38;5;241m.\u001b[39mCCSD(mf)\n\u001b[1;32m     14\u001b[0m mycc\u001b[38;5;241m.\u001b[39mkernel()\n\u001b[0;32m---> 16\u001b[0m dm1_cc \u001b[38;5;241m=\u001b[39m mycc\u001b[38;5;241m.\u001b[39mmake_rdm1(ao_repr\u001b[38;5;241m=\u001b[39m\u001b[38;5;28;01mTrue\u001b[39;00m)\n\u001b[1;32m     17\u001b[0m e_cc \u001b[38;5;241m=\u001b[39m mycc\u001b[38;5;241m.\u001b[39me_tot\n\u001b[1;32m     19\u001b[0m mdft \u001b[38;5;241m=\u001b[39m pyscf\u001b[38;5;241m.\u001b[39mscf\u001b[38;5;241m.\u001b[39mRKS(dft2cc\u001b[38;5;241m.\u001b[39mmol)\n",
      "File \u001b[0;32m~/anaconda3/envs/pyscf/lib/python3.11/site-packages/pyscf/cc/ccsd.py:1322\u001b[0m, in \u001b[0;36mCCSD.make_rdm1\u001b[0;34m(self, t1, t2, l1, l2, ao_repr, with_frozen, with_mf)\u001b[0m\n\u001b[1;32m   1320\u001b[0m \u001b[38;5;28;01mif\u001b[39;00m l1 \u001b[38;5;129;01mis\u001b[39;00m \u001b[38;5;28;01mNone\u001b[39;00m: l1 \u001b[38;5;241m=\u001b[39m \u001b[38;5;28mself\u001b[39m\u001b[38;5;241m.\u001b[39ml1\n\u001b[1;32m   1321\u001b[0m \u001b[38;5;28;01mif\u001b[39;00m l2 \u001b[38;5;129;01mis\u001b[39;00m \u001b[38;5;28;01mNone\u001b[39;00m: l2 \u001b[38;5;241m=\u001b[39m \u001b[38;5;28mself\u001b[39m\u001b[38;5;241m.\u001b[39ml2\n\u001b[0;32m-> 1322\u001b[0m \u001b[38;5;28;01mif\u001b[39;00m l1 \u001b[38;5;129;01mis\u001b[39;00m \u001b[38;5;28;01mNone\u001b[39;00m: l1, l2 \u001b[38;5;241m=\u001b[39m \u001b[38;5;28mself\u001b[39m\u001b[38;5;241m.\u001b[39msolve_lambda(t1, t2)\n\u001b[1;32m   1323\u001b[0m \u001b[38;5;28;01mreturn\u001b[39;00m ccsd_rdm\u001b[38;5;241m.\u001b[39mmake_rdm1(\u001b[38;5;28mself\u001b[39m, t1, t2, l1, l2, ao_repr\u001b[38;5;241m=\u001b[39mao_repr,\n\u001b[1;32m   1324\u001b[0m                           with_frozen\u001b[38;5;241m=\u001b[39mwith_frozen, with_mf\u001b[38;5;241m=\u001b[39mwith_mf)\n",
      "File \u001b[0;32m~/anaconda3/envs/pyscf/lib/python3.11/site-packages/pyscf/cc/ccsd.py:1261\u001b[0m, in \u001b[0;36mCCSD.solve_lambda\u001b[0;34m(self, t1, t2, l1, l2, eris)\u001b[0m\n\u001b[1;32m   1258\u001b[0m \u001b[38;5;28;01mif\u001b[39;00m t2 \u001b[38;5;129;01mis\u001b[39;00m \u001b[38;5;28;01mNone\u001b[39;00m: t2 \u001b[38;5;241m=\u001b[39m \u001b[38;5;28mself\u001b[39m\u001b[38;5;241m.\u001b[39mt2\n\u001b[1;32m   1259\u001b[0m \u001b[38;5;28;01mif\u001b[39;00m eris \u001b[38;5;129;01mis\u001b[39;00m \u001b[38;5;28;01mNone\u001b[39;00m: eris \u001b[38;5;241m=\u001b[39m \u001b[38;5;28mself\u001b[39m\u001b[38;5;241m.\u001b[39mao2mo(\u001b[38;5;28mself\u001b[39m\u001b[38;5;241m.\u001b[39mmo_coeff)\n\u001b[1;32m   1260\u001b[0m \u001b[38;5;28mself\u001b[39m\u001b[38;5;241m.\u001b[39mconverged_lambda, \u001b[38;5;28mself\u001b[39m\u001b[38;5;241m.\u001b[39ml1, \u001b[38;5;28mself\u001b[39m\u001b[38;5;241m.\u001b[39ml2 \u001b[38;5;241m=\u001b[39m \\\n\u001b[0;32m-> 1261\u001b[0m         ccsd_lambda\u001b[38;5;241m.\u001b[39mkernel(\u001b[38;5;28mself\u001b[39m, eris, t1, t2, l1, l2,\n\u001b[1;32m   1262\u001b[0m                            max_cycle\u001b[38;5;241m=\u001b[39m\u001b[38;5;28mself\u001b[39m\u001b[38;5;241m.\u001b[39mmax_cycle,\n\u001b[1;32m   1263\u001b[0m                            tol\u001b[38;5;241m=\u001b[39m\u001b[38;5;28mself\u001b[39m\u001b[38;5;241m.\u001b[39mconv_tol_normt,\n\u001b[1;32m   1264\u001b[0m                            verbose\u001b[38;5;241m=\u001b[39m\u001b[38;5;28mself\u001b[39m\u001b[38;5;241m.\u001b[39mverbose)\n\u001b[1;32m   1265\u001b[0m \u001b[38;5;28;01mreturn\u001b[39;00m \u001b[38;5;28mself\u001b[39m\u001b[38;5;241m.\u001b[39ml1, \u001b[38;5;28mself\u001b[39m\u001b[38;5;241m.\u001b[39ml2\n",
      "File \u001b[0;32m~/anaconda3/envs/pyscf/lib/python3.11/site-packages/pyscf/cc/ccsd_lambda.py:65\u001b[0m, in \u001b[0;36mkernel\u001b[0;34m(mycc, eris, t1, t2, l1, l2, max_cycle, tol, verbose, fintermediates, fupdate)\u001b[0m\n\u001b[1;32m     63\u001b[0m conv \u001b[38;5;241m=\u001b[39m \u001b[38;5;28;01mFalse\u001b[39;00m\n\u001b[1;32m     64\u001b[0m \u001b[38;5;28;01mfor\u001b[39;00m istep \u001b[38;5;129;01min\u001b[39;00m \u001b[38;5;28mrange\u001b[39m(max_cycle):\n\u001b[0;32m---> 65\u001b[0m     l1new, l2new \u001b[38;5;241m=\u001b[39m fupdate(mycc, t1, t2, l1, l2, eris, imds)\n\u001b[1;32m     66\u001b[0m     normt \u001b[38;5;241m=\u001b[39m numpy\u001b[38;5;241m.\u001b[39mlinalg\u001b[38;5;241m.\u001b[39mnorm(mycc\u001b[38;5;241m.\u001b[39mamplitudes_to_vector(l1new, l2new) \u001b[38;5;241m-\u001b[39m\n\u001b[1;32m     67\u001b[0m                               mycc\u001b[38;5;241m.\u001b[39mamplitudes_to_vector(l1, l2))\n\u001b[1;32m     68\u001b[0m     l1, l2 \u001b[38;5;241m=\u001b[39m l1new, l2new\n",
      "File \u001b[0;32m~/anaconda3/envs/pyscf/lib/python3.11/site-packages/pyscf/cc/ccsd_lambda.py:301\u001b[0m, in \u001b[0;36mupdate_lambda\u001b[0;34m(mycc, t1, t2, l1, l2, eris, imds)\u001b[0m\n\u001b[1;32m    299\u001b[0m l1new[:,p0:p1] \u001b[38;5;241m+\u001b[39m\u001b[38;5;241m=\u001b[39m numpy\u001b[38;5;241m.\u001b[39meinsum(\u001b[38;5;124m'\u001b[39m\u001b[38;5;124miabc,bc->ia\u001b[39m\u001b[38;5;124m'\u001b[39m, eris_ovvv, mba1) \u001b[38;5;241m*\u001b[39m \u001b[38;5;241m2\u001b[39m\n\u001b[1;32m    300\u001b[0m l1new \u001b[38;5;241m-\u001b[39m\u001b[38;5;241m=\u001b[39m numpy\u001b[38;5;241m.\u001b[39meinsum(\u001b[38;5;124m'\u001b[39m\u001b[38;5;124mibca,bc->ia\u001b[39m\u001b[38;5;124m'\u001b[39m, eris_ovvv, mba1[p0:p1])\n\u001b[0;32m--> 301\u001b[0m l2new[:,:,p0:p1] \u001b[38;5;241m+\u001b[39m\u001b[38;5;241m=\u001b[39m lib\u001b[38;5;241m.\u001b[39meinsum(\u001b[38;5;124m'\u001b[39m\u001b[38;5;124mjbac,ic->jiba\u001b[39m\u001b[38;5;124m'\u001b[39m, eris_ovvv, l1)\n\u001b[1;32m    302\u001b[0m m4 \u001b[38;5;241m=\u001b[39m lib\u001b[38;5;241m.\u001b[39meinsum(\u001b[38;5;124m'\u001b[39m\u001b[38;5;124mijkd,kadb->ijab\u001b[39m\u001b[38;5;124m'\u001b[39m, l2t1, eris_ovvv)\n\u001b[1;32m    303\u001b[0m l2new[:,:,p0:p1] \u001b[38;5;241m-\u001b[39m\u001b[38;5;241m=\u001b[39m m4\n",
      "File \u001b[0;32m~/anaconda3/envs/pyscf/lib/python3.11/site-packages/pyscf/lib/numpy_helper.py:239\u001b[0m, in \u001b[0;36meinsum\u001b[0;34m(subscripts, *tensors, **kwargs)\u001b[0m\n\u001b[1;32m    237\u001b[0m     out \u001b[38;5;241m=\u001b[39m _numpy_einsum(subscripts, \u001b[38;5;241m*\u001b[39mtensors, \u001b[38;5;241m*\u001b[39m\u001b[38;5;241m*\u001b[39mkwargs)\n\u001b[1;32m    238\u001b[0m \u001b[38;5;28;01melif\u001b[39;00m \u001b[38;5;28mlen\u001b[39m(tensors) \u001b[38;5;241m<\u001b[39m\u001b[38;5;241m=\u001b[39m \u001b[38;5;241m2\u001b[39m:\n\u001b[0;32m--> 239\u001b[0m     out \u001b[38;5;241m=\u001b[39m _contract(subscripts, \u001b[38;5;241m*\u001b[39mtensors, \u001b[38;5;241m*\u001b[39m\u001b[38;5;241m*\u001b[39mkwargs)\n\u001b[1;32m    240\u001b[0m \u001b[38;5;28;01melse\u001b[39;00m:\n\u001b[1;32m    241\u001b[0m     optimize \u001b[38;5;241m=\u001b[39m kwargs\u001b[38;5;241m.\u001b[39mpop(\u001b[38;5;124m'\u001b[39m\u001b[38;5;124moptimize\u001b[39m\u001b[38;5;124m'\u001b[39m, \u001b[38;5;28;01mTrue\u001b[39;00m)\n",
      "File \u001b[0;32m~/anaconda3/envs/pyscf/lib/python3.11/site-packages/pyscf/lib/numpy_helper.py:111\u001b[0m, in \u001b[0;36m_contract\u001b[0;34m(subscripts, *tensors, **kwargs)\u001b[0m\n\u001b[1;32m    109\u001b[0m \u001b[38;5;66;03m# small problem size\u001b[39;00m\n\u001b[1;32m    110\u001b[0m \u001b[38;5;28;01mif\u001b[39;00m A\u001b[38;5;241m.\u001b[39msize \u001b[38;5;241m<\u001b[39m EINSUM_MAX_SIZE \u001b[38;5;129;01mor\u001b[39;00m B\u001b[38;5;241m.\u001b[39msize \u001b[38;5;241m<\u001b[39m EINSUM_MAX_SIZE:\n\u001b[0;32m--> 111\u001b[0m     \u001b[38;5;28;01mreturn\u001b[39;00m _numpy_einsum(idx_str, A, B)\n\u001b[1;32m    113\u001b[0m C_dtype \u001b[38;5;241m=\u001b[39m numpy\u001b[38;5;241m.\u001b[39mresult_type(A, B)\n\u001b[1;32m    114\u001b[0m \u001b[38;5;28;01mif\u001b[39;00m FOUND_TBLIS \u001b[38;5;129;01mand\u001b[39;00m C_dtype \u001b[38;5;241m==\u001b[39m numpy\u001b[38;5;241m.\u001b[39mdouble:\n\u001b[1;32m    115\u001b[0m     \u001b[38;5;66;03m# tblis is slow for complex type\u001b[39;00m\n",
      "File \u001b[0;32m<__array_function__ internals>:200\u001b[0m, in \u001b[0;36meinsum\u001b[0;34m(*args, **kwargs)\u001b[0m\n",
      "File \u001b[0;32m~/anaconda3/envs/pyscf/lib/python3.11/site-packages/numpy/core/einsumfunc.py:1371\u001b[0m, in \u001b[0;36meinsum\u001b[0;34m(out, optimize, *operands, **kwargs)\u001b[0m\n\u001b[1;32m   1369\u001b[0m     \u001b[38;5;28;01mif\u001b[39;00m specified_out:\n\u001b[1;32m   1370\u001b[0m         kwargs[\u001b[38;5;124m'\u001b[39m\u001b[38;5;124mout\u001b[39m\u001b[38;5;124m'\u001b[39m] \u001b[38;5;241m=\u001b[39m out\n\u001b[0;32m-> 1371\u001b[0m     \u001b[38;5;28;01mreturn\u001b[39;00m c_einsum(\u001b[38;5;241m*\u001b[39moperands, \u001b[38;5;241m*\u001b[39m\u001b[38;5;241m*\u001b[39mkwargs)\n\u001b[1;32m   1373\u001b[0m \u001b[38;5;66;03m# Check the kwargs to avoid a more cryptic error later, without having to\u001b[39;00m\n\u001b[1;32m   1374\u001b[0m \u001b[38;5;66;03m# repeat default values here\u001b[39;00m\n\u001b[1;32m   1375\u001b[0m valid_einsum_kwargs \u001b[38;5;241m=\u001b[39m [\u001b[38;5;124m'\u001b[39m\u001b[38;5;124mdtype\u001b[39m\u001b[38;5;124m'\u001b[39m, \u001b[38;5;124m'\u001b[39m\u001b[38;5;124morder\u001b[39m\u001b[38;5;124m'\u001b[39m, \u001b[38;5;124m'\u001b[39m\u001b[38;5;124mcasting\u001b[39m\u001b[38;5;124m'\u001b[39m]\n",
      "\u001b[0;31mKeyboardInterrupt\u001b[0m: "
     ]
    }
   ],
   "source": [
    "molecular = copy.deepcopy(Mol[\"Propane\"])\n",
    "molecular[0][1] += 0.16\n",
    "\n",
    "dft2cc = CC_DFT_DATA(\n",
    "    molecular,\n",
    "    name=\"test\",\n",
    "    basis=\"cc-pvdz\",\n",
    "    if_basis_str=True,\n",
    ")\n",
    "\n",
    "mf = pyscf.scf.RHF(dft2cc.mol)\n",
    "mf.kernel()\n",
    "mycc = pyscf.cc.CCSD(mf)\n",
    "mycc.kernel()\n",
    "\n",
    "dm1_cc = mycc.make_rdm1(ao_repr=True)\n",
    "e_cc = mycc.e_tot\n",
    "\n",
    "mdft = pyscf.scf.RKS(dft2cc.mol)\n",
    "mdft.xc = \"b3lyp\"\n",
    "mdft.kernel()\n",
    "e_dft = mdft.e_tot\n",
    "dm1_dft = mdft.make_rdm1(ao_repr=True)\n",
    "\n",
    "grids = Grid(dft2cc.mol)\n",
    "coords = grids.coords\n",
    "weights = grids.weights\n",
    "ao_value = pyscf.dft.numint.eval_ao(dft2cc.mol, coords)\n",
    "\n",
    "rho_dft = pyscf.dft.numint.eval_rho(dft2cc.mol, ao_value, dm1_dft)\n",
    "rho_cc = pyscf.dft.numint.eval_rho(dft2cc.mol, ao_value, dm1_cc)\n",
    "\n",
    "rho_dft_grids = grids.vector_to_matrix(rho_dft)\n",
    "rho_cc_grids = grids.vector_to_matrix(rho_cc)\n",
    "rho_cc_grids_pred = np.zeros_like(rho_cc_grids)"
   ]
  },
  {
   "cell_type": "code",
   "execution_count": 3,
   "metadata": {},
   "outputs": [
    {
     "name": "stdout",
     "output_type": "stream",
     "text": [
      "Model loaded from checkpoints/checkpoint-ccdft-2024-05-30-16-31-04-100/1-10000.pth\n",
      "Model loaded from checkpoints/checkpoint-ccdft-2024-05-30-16-31-04-100/2-10000.pth\n"
     ]
    }
   ],
   "source": [
    "from cadft.utils import ModelDict\n",
    "\n",
    "Modeldict = ModelDict(100, 3, 1, \"cuda\")\n",
    "Modeldict.load_model(\"2024-05-30-16-31-04\")"
   ]
  },
  {
   "cell_type": "code",
   "execution_count": 4,
   "metadata": {},
   "outputs": [],
   "source": [
    "ene_ = 0\n",
    "for i_atom in range(rho_dft_grids.shape[0]):\n",
    "    for i in range(rho_dft_grids.shape[1]):\n",
    "        input_ = rho_dft_grids[i_atom, i, :]\n",
    "        input_gpu = torch.tensor(input_, dtype=torch.float64).to(\"cuda\")\n",
    "        output_ = Modeldict.model_dict[\"1\"](input_gpu).detach().cpu().numpy()\n",
    "        rho_cc_grids_pred[i_atom, i, :] = output_ / 1000 + input_\n",
    "        output_ = Modeldict.model_dict[\"2\"](input_gpu).detach().cpu().numpy()\n",
    "        ene_ += output_[0]"
   ]
  },
  {
   "cell_type": "code",
   "execution_count": 5,
   "metadata": {},
   "outputs": [
    {
     "data": {
      "text/plain": [
       "0.16013346968448577"
      ]
     },
     "execution_count": 5,
     "metadata": {},
     "output_type": "execute_result"
    }
   ],
   "source": [
    "np.sum(np.abs(grids.matrix_to_vector(rho_cc_grids_pred - rho_cc_grids) * weights))"
   ]
  },
  {
   "cell_type": "code",
   "execution_count": 6,
   "metadata": {},
   "outputs": [
    {
     "data": {
      "text/plain": [
       "(-118750.29532288105, -118752.90660467514)"
      ]
     },
     "execution_count": 6,
     "metadata": {},
     "output_type": "execute_result"
    }
   ],
   "source": [
    "e_dft * 1000 + ene_, e_cc * 1000"
   ]
  },
  {
   "cell_type": "code",
   "execution_count": null,
   "metadata": {},
   "outputs": [],
   "source": []
  }
 ],
 "metadata": {
  "kernelspec": {
   "display_name": "pyscf",
   "language": "python",
   "name": "python3"
  },
  "language_info": {
   "codemirror_mode": {
    "name": "ipython",
    "version": 3
   },
   "file_extension": ".py",
   "mimetype": "text/x-python",
   "name": "python",
   "nbconvert_exporter": "python",
   "pygments_lexer": "ipython3",
   "version": "3.11.5"
  }
 },
 "nbformat": 4,
 "nbformat_minor": 2
}
