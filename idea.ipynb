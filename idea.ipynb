{
 "cells": [
  {
   "cell_type": "code",
   "execution_count": 1,
   "metadata": {},
   "outputs": [
    {
     "name": "stderr",
     "output_type": "stream",
     "text": [
      "/home/dhem/anaconda3/envs/pyscf/lib/python3.11/site-packages/pyscf/dft/libxc.py:771: UserWarning: Since PySCF-2.3, B3LYP (and B3P86) are changed to the VWN-RPA variant, corresponding to the original definition by Stephens et al. (issue 1480) and the same as the B3LYP functional in Gaussian. To restore the VWN5 definition, you can put the setting \"B3LYP_WITH_VWN5 = True\" in pyscf_conf.py\n",
      "  warnings.warn('Since PySCF-2.3, B3LYP (and B3P86) are changed to the VWN-RPA variant, '\n"
     ]
    }
   ],
   "source": [
    "import copy\n",
    "import logging\n",
    "import sys\n",
    "\n",
    "from pathlib import Path\n",
    "import opt_einsum as oe\n",
    "import numpy as np\n",
    "from matplotlib import pyplot as plt\n",
    "import pyscf\n",
    "\n",
    "from dft2cc.dft2cc import DFT2CC\n",
    "from dft2cc.utils.mol import Mol, PREDICT_MOLECULAR\n",
    "\n",
    "\n",
    "name_mol = \"HCHHH\"\n",
    "level = 4\n",
    "distance = -0.25\n",
    "molecular = copy.deepcopy(Mol[name_mol])\n",
    "molecular[0][1] = distance + molecular[0][1]\n",
    "save_data = {}\n",
    "\n",
    "# set the target of logger to stderr\n",
    "logger = logging.getLogger(__name__)\n",
    "logger.setLevel(logging.ERROR)\n",
    "\n",
    "handler = logging.StreamHandler(sys.stderr)\n",
    "handler.setLevel(logging.DEBUG)\n",
    "formatter = logging.Formatter(\"%(asctime)s - %(name)s - %(levelname)s - %(message)s\")\n",
    "handler.setFormatter(formatter)\n",
    "logger.addHandler(handler)\n",
    "\n",
    "path_dir = Path(\"../tmp\")\n",
    "\n",
    "dft2cc = DFT2CC(\n",
    "    molecular,\n",
    "    path=path_dir / f\"{distance:.4f}\",\n",
    "    logger=logger,\n",
    "    level=level,\n",
    "    basis=\"cc-pcvdz\",\n",
    "    noisy_print=False,\n",
    "    if_basis_str=True,\n",
    ")\n",
    "\n",
    "ccsd_dm1_r = np.load(path_dir / f\"{distance:.4f}\" / \"ccsd_dm1_r.npy\")"
   ]
  },
  {
   "cell_type": "code",
   "execution_count": 18,
   "metadata": {},
   "outputs": [],
   "source": [
    "mat_a = np.zeros((len(ccsd_dm1_r), dft2cc.norb**2))\n",
    "for i in range(dft2cc.norb):\n",
    "    for j in range(dft2cc.norb):\n",
    "        mat_a[:, i * dft2cc.norb + j] = dft2cc.ao_0[:, i] * dft2cc.ao_0[:, j]\n",
    "\n",
    "res = np.linalg.lstsq(mat_a, ccsd_dm1_r, rcond=None)\n",
    "\n",
    "dm1_fitted = res[0].reshape((dft2cc.norb, dft2cc.norb))\n",
    "residuals = res[1]\n",
    "\n",
    "dm1_fitted_r = oe.contract(\n",
    "    \"uv,gu,gv->g\",\n",
    "    dm1_fitted,\n",
    "    dft2cc.ao_0,\n",
    "    dft2cc.ao_0,\n",
    "    optimize=\"auto\",\n",
    ")\n",
    "\n",
    "print(np.linalg.norm(dm1_fitted_r - ccsd_dm1_r))\n",
    "\n",
    "# ccsd_error_dm1_r = oe.contract(\n",
    "#     \"uv,gu,gv->g\",\n",
    "#     ccsd_dm1,\n",
    "#     dft2cc.ao_0,\n",
    "#     dft2cc.ao_0,\n",
    "#     optimize=\"auto\",\n",
    "# )\n",
    "\n",
    "# print(np.linalg.norm(ccsd_dm1_r - ccsd_error_dm1_r, ord=1))\n",
    "# print(\n",
    "#     np.sum(ccsd_dm1_r * dft2cc.grids.weights)\n",
    "#     - np.sum(ccsd_error_dm1_r * dft2cc.grids.weights)\n",
    "# )"
   ]
  },
  {
   "cell_type": "code",
   "execution_count": null,
   "metadata": {},
   "outputs": [],
   "source": []
  }
 ],
 "metadata": {
  "kernelspec": {
   "display_name": "pyscf",
   "language": "python",
   "name": "python3"
  },
  "language_info": {
   "codemirror_mode": {
    "name": "ipython",
    "version": 3
   },
   "file_extension": ".py",
   "mimetype": "text/x-python",
   "name": "python",
   "nbconvert_exporter": "python",
   "pygments_lexer": "ipython3",
   "version": "3.11.5"
  }
 },
 "nbformat": 4,
 "nbformat_minor": 2
}
