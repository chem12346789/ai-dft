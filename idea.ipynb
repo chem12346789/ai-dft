{
 "cells": [
  {
   "cell_type": "code",
   "execution_count": 1,
   "metadata": {},
   "outputs": [
    {
     "ename": "ModuleNotFoundError",
     "evalue": "No module named 'dft2cc'",
     "output_type": "error",
     "traceback": [
      "\u001b[0;31m---------------------------------------------------------------------------\u001b[0m",
      "\u001b[0;31mModuleNotFoundError\u001b[0m                       Traceback (most recent call last)",
      "Cell \u001b[0;32mIn[1], line 11\u001b[0m\n\u001b[1;32m      8\u001b[0m \u001b[38;5;28;01mfrom\u001b[39;00m \u001b[38;5;21;01mmatplotlib\u001b[39;00m \u001b[38;5;28;01mimport\u001b[39;00m pyplot \u001b[38;5;28;01mas\u001b[39;00m plt\n\u001b[1;32m      9\u001b[0m \u001b[38;5;28;01mimport\u001b[39;00m \u001b[38;5;21;01mpyscf\u001b[39;00m\n\u001b[0;32m---> 11\u001b[0m \u001b[38;5;28;01mfrom\u001b[39;00m \u001b[38;5;21;01mdft2cc\u001b[39;00m\u001b[38;5;21;01m.\u001b[39;00m\u001b[38;5;21;01mdft2cc\u001b[39;00m \u001b[38;5;28;01mimport\u001b[39;00m DFT2CC\n\u001b[1;32m     12\u001b[0m \u001b[38;5;28;01mfrom\u001b[39;00m \u001b[38;5;21;01mdft2cc\u001b[39;00m\u001b[38;5;21;01m.\u001b[39;00m\u001b[38;5;21;01mutils\u001b[39;00m\u001b[38;5;21;01m.\u001b[39;00m\u001b[38;5;21;01mmol\u001b[39;00m \u001b[38;5;28;01mimport\u001b[39;00m Mol, PREDICT_MOLECULAR\n\u001b[1;32m     15\u001b[0m name_mol \u001b[38;5;241m=\u001b[39m \u001b[38;5;124m\"\u001b[39m\u001b[38;5;124mHCHHH\u001b[39m\u001b[38;5;124m\"\u001b[39m\n",
      "\u001b[0;31mModuleNotFoundError\u001b[0m: No module named 'dft2cc'"
     ]
    }
   ],
   "source": [
    "import copy\n",
    "import logging\n",
    "import sys\n",
    "\n",
    "from pathlib import Path\n",
    "import opt_einsum as oe\n",
    "import numpy as np\n",
    "from matplotlib import pyplot as plt\n",
    "import pyscf\n",
    "\n",
    "from dft2cc.dft2cc import DFT2CC\n",
    "from dft2cc.utils.mol import Mol, PREDICT_MOLECULAR\n",
    "\n",
    "\n",
    "name_mol = \"HCHHH\"\n",
    "level = 4\n",
    "distance = -0.25\n",
    "molecular = copy.deepcopy(Mol[name_mol])\n",
    "molecular[0][1] = distance + molecular[0][1]\n",
    "save_data = {}\n",
    "\n",
    "# set the target of logger to stderr\n",
    "logger = logging.getLogger(__name__)\n",
    "logger.setLevel(logging.ERROR)\n",
    "\n",
    "handler = logging.StreamHandler(sys.stderr)\n",
    "handler.setLevel(logging.DEBUG)\n",
    "formatter = logging.Formatter(\"%(asctime)s - %(name)s - %(levelname)s - %(message)s\")\n",
    "handler.setFormatter(formatter)\n",
    "logger.addHandler(handler)\n",
    "\n",
    "path_dir = Path(\"../tmp\")\n",
    "\n",
    "dft2cc = DFT2CC(\n",
    "    molecular,\n",
    "    path=path_dir / f\"{distance:.4f}\",\n",
    "    logger=logger,\n",
    "    level=level,\n",
    "    basis=\"cc-pcvdz\",\n",
    "    noisy_print=False,\n",
    "    if_basis_str=True,\n",
    ")\n",
    "\n",
    "mo = dft2cc.myhf.mo_coeff\n",
    "mycc = pyscf.cc.CCSD(dft2cc.myhf).run()\n",
    "ccsd_e = mycc.e_tot\n",
    "ccsd_dm1_mo = mycc.make_rdm1()\n",
    "ccsd_dm1 = oe.contract(\"ij,pi,qj->pq\", ccsd_dm1_mo, mo, mo)"
   ]
  },
  {
   "cell_type": "code",
   "execution_count": null,
   "metadata": {},
   "outputs": [],
   "source": []
  }
 ],
 "metadata": {
  "kernelspec": {
   "display_name": "pyscf",
   "language": "python",
   "name": "python3"
  },
  "language_info": {
   "codemirror_mode": {
    "name": "ipython",
    "version": 3
   },
   "file_extension": ".py",
   "mimetype": "text/x-python",
   "name": "python",
   "nbconvert_exporter": "python",
   "pygments_lexer": "ipython3",
   "version": "3.11.5"
  }
 },
 "nbformat": 4,
 "nbformat_minor": 2
}
