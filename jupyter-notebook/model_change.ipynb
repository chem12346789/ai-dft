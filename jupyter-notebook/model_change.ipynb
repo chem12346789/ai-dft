{
 "cells": [
  {
   "cell_type": "markdown",
   "metadata": {},
   "source": [
    "Have changed the name of layer? Use it!"
   ]
  },
  {
   "cell_type": "code",
   "execution_count": 17,
   "metadata": {},
   "outputs": [],
   "source": [
    "from pathlib import Path\n",
    "import torch\n",
    "\n",
    "from cadft.utils import (\n",
    "    add_args,\n",
    "    gen_keys_l,\n",
    "    gen_model_dict,\n",
    "    load_model,\n",
    ")\n",
    "\n",
    "key_map = {\n",
    "    \"fc4.weight\": \"fcout1.weight\",\n",
    "    \"fc4.bias\": \"fcout1.bias\",\n",
    "    \"fc5.weight\": \"fcout2.weight\",\n",
    "    \"fc5.bias\": \"fcout2.bias\",\n",
    "}\n",
    "\n",
    "ATOM_LIST = [\n",
    "    \"H\",\n",
    "    \"C\",\n",
    "]\n",
    "\n",
    "keys_l = gen_keys_l(ATOM_LIST)\n",
    "device = torch.device(\"cpu\")\n",
    "model_dict = gen_model_dict(keys_l, 800, device)\n",
    "\n",
    "dir_load = Path(f\"checkpoints/checkpoint-ccdft-2024-05-18-19-14-05-{800}/\")\n",
    "for key in keys_l:\n",
    "    for i_str in [\"1\", \"2\"]:\n",
    "        key_i_str = key + i_str\n",
    "        list_of_path = list(dir_load.glob(f\"{key}-{i_str}*.pth\"))\n",
    "        if len(list_of_path) == 0:\n",
    "            print(f\"No model found for {key_i_str}, use random initialization.\")\n",
    "            continue\n",
    "        load_path = max(list_of_path, key=lambda p: p.stat().st_ctime)\n",
    "        state_dict = torch.load(load_path, map_location=device)\n",
    "        renamed_dict = {key_map.get(k, k): v for k, v in state_dict.items()}\n",
    "        model_dict[key_i_str].load_state_dict(renamed_dict)\n",
    "        torch.save(\n",
    "            renamed_dict,\n",
    "            dir_load / f\"{key}-{i_str}-{0}.pth\",\n",
    "        )"
   ]
  },
  {
   "cell_type": "markdown",
   "metadata": {},
   "source": []
  }
 ],
 "metadata": {
  "kernelspec": {
   "display_name": "pyscf",
   "language": "python",
   "name": "python3"
  },
  "language_info": {
   "codemirror_mode": {
    "name": "ipython",
    "version": 3
   },
   "file_extension": ".py",
   "mimetype": "text/x-python",
   "name": "python",
   "nbconvert_exporter": "python",
   "pygments_lexer": "ipython3",
   "version": "3.11.5"
  }
 },
 "nbformat": 4,
 "nbformat_minor": 2
}
