{
 "cells": [
  {
   "cell_type": "markdown",
   "metadata": {},
   "source": [
    "Have changed the name of layer? Use it!"
   ]
  },
  {
   "cell_type": "code",
   "execution_count": 17,
   "metadata": {},
   "outputs": [],
   "source": [
    "from pathlib import Path\n",
    "import torch\n",
    "\n",
    "from cadft.utils import (\n",
    "    add_args,\n",
    "    gen_keys_l,\n",
    "    gen_model_dict,\n",
    "    load_model,\n",
    ")\n",
    "\n",
    "key_map = {\n",
    "    \"fc4.weight\": \"fcout1.weight\",\n",
    "    \"fc4.bias\": \"fcout1.bias\",\n",
    "    \"fc5.weight\": \"fcout2.weight\",\n",
    "    \"fc5.bias\": \"fcout2.bias\",\n",
    "}\n",
    "\n",
    "ATOM_LIST = [\n",
    "    \"H\",\n",
    "    \"C\",\n",
    "]\n",
    "\n",
    "keys_l = gen_keys_l(ATOM_LIST)\n",
    "device = torch.device(\"cpu\")\n",
    "model_dict = gen_model_dict(keys_l, 800, device)\n",
    "\n",
    "dir_load = Path(f\"checkpoints/checkpoint-ccdft-2024-05-18-19-14-05-{800}/\")\n",
    "for key in keys_l:\n",
    "    for i_str in [\"1\", \"2\"]:\n",
    "        key_i_str = key + i_str\n",
    "        list_of_path = list(dir_load.glob(f\"{key}-{i_str}*.pth\"))\n",
    "        if len(list_of_path) == 0:\n",
    "            print(f\"No model found for {key_i_str}, use random initialization.\")\n",
    "            continue\n",
    "        load_path = max(list_of_path, key=lambda p: p.stat().st_ctime)\n",
    "        state_dict = torch.load(load_path, map_location=device)\n",
    "        renamed_dict = {key_map.get(k, k): v for k, v in state_dict.items()}\n",
    "        model_dict[key_i_str].load_state_dict(renamed_dict)\n",
    "        torch.save(\n",
    "            renamed_dict,\n",
    "            dir_load / f\"{key}-{i_str}-{0}.pth\",\n",
    "        )"
   ]
  },
  {
   "cell_type": "code",
   "execution_count": 7,
   "metadata": {},
   "outputs": [
    {
     "name": "stdout",
     "output_type": "stream",
     "text": [
      "odict_keys(['inc.double_conv.0.weight', 'inc.double_conv.1.weight', 'inc.double_conv.1.bias', 'inc.double_conv.1.running_mean', 'inc.double_conv.1.running_var', 'inc.double_conv.1.num_batches_tracked', 'inc.double_conv.3.weight', 'inc.double_conv.4.weight', 'inc.double_conv.4.bias', 'inc.double_conv.4.running_mean', 'inc.double_conv.4.running_var', 'inc.double_conv.4.num_batches_tracked', 'down_layers.0.maxpool_conv.1.double_conv.0.weight', 'down_layers.0.maxpool_conv.1.double_conv.1.weight', 'down_layers.0.maxpool_conv.1.double_conv.1.bias', 'down_layers.0.maxpool_conv.1.double_conv.1.running_mean', 'down_layers.0.maxpool_conv.1.double_conv.1.running_var', 'down_layers.0.maxpool_conv.1.double_conv.1.num_batches_tracked', 'down_layers.0.maxpool_conv.1.double_conv.3.weight', 'down_layers.0.maxpool_conv.1.double_conv.4.weight', 'down_layers.0.maxpool_conv.1.double_conv.4.bias', 'down_layers.0.maxpool_conv.1.double_conv.4.running_mean', 'down_layers.0.maxpool_conv.1.double_conv.4.running_var', 'down_layers.0.maxpool_conv.1.double_conv.4.num_batches_tracked', 'down_layers.1.maxpool_conv.1.double_conv.0.weight', 'down_layers.1.maxpool_conv.1.double_conv.1.weight', 'down_layers.1.maxpool_conv.1.double_conv.1.bias', 'down_layers.1.maxpool_conv.1.double_conv.1.running_mean', 'down_layers.1.maxpool_conv.1.double_conv.1.running_var', 'down_layers.1.maxpool_conv.1.double_conv.1.num_batches_tracked', 'down_layers.1.maxpool_conv.1.double_conv.3.weight', 'down_layers.1.maxpool_conv.1.double_conv.4.weight', 'down_layers.1.maxpool_conv.1.double_conv.4.bias', 'down_layers.1.maxpool_conv.1.double_conv.4.running_mean', 'down_layers.1.maxpool_conv.1.double_conv.4.running_var', 'down_layers.1.maxpool_conv.1.double_conv.4.num_batches_tracked', 'up_layers.0.up.weight', 'up_layers.0.up.bias', 'up_layers.0.conv.double_conv.0.weight', 'up_layers.0.conv.double_conv.1.weight', 'up_layers.0.conv.double_conv.1.bias', 'up_layers.0.conv.double_conv.1.running_mean', 'up_layers.0.conv.double_conv.1.running_var', 'up_layers.0.conv.double_conv.1.num_batches_tracked', 'up_layers.0.conv.double_conv.3.weight', 'up_layers.0.conv.double_conv.4.weight', 'up_layers.0.conv.double_conv.4.bias', 'up_layers.0.conv.double_conv.4.running_mean', 'up_layers.0.conv.double_conv.4.running_var', 'up_layers.0.conv.double_conv.4.num_batches_tracked', 'up_layers.1.up.weight', 'up_layers.1.up.bias', 'up_layers.1.conv.double_conv.0.weight', 'up_layers.1.conv.double_conv.1.weight', 'up_layers.1.conv.double_conv.1.bias', 'up_layers.1.conv.double_conv.1.running_mean', 'up_layers.1.conv.double_conv.1.running_var', 'up_layers.1.conv.double_conv.1.num_batches_tracked', 'up_layers.1.conv.double_conv.3.weight', 'up_layers.1.conv.double_conv.4.weight', 'up_layers.1.conv.double_conv.4.bias', 'up_layers.1.conv.double_conv.4.running_mean', 'up_layers.1.conv.double_conv.4.running_var', 'up_layers.1.conv.double_conv.4.num_batches_tracked', 'outc.conv.weight', 'outc.conv.bias'])\n"
     ]
    }
   ],
   "source": [
    "from pathlib import Path\n",
    "import torch\n",
    "\n",
    "dir_load = Path(f\"../checkpoints/checkpoint-ccdft-2024-06-21-15-06-59-64-2/\")\n",
    "list_of_path = list(dir_load.glob(\"1-*.pth\"))\n",
    "load_path = max(list_of_path, key=lambda p: p.stat().st_ctime)\n",
    "state_dict = torch.load(load_path, map_location=\"cpu\")\n",
    "print(state_dict.keys())"
   ]
  },
  {
   "cell_type": "code",
   "execution_count": null,
   "metadata": {},
   "outputs": [],
   "source": []
  }
 ],
 "metadata": {
  "kernelspec": {
   "display_name": "pyscf",
   "language": "python",
   "name": "python3"
  },
  "language_info": {
   "codemirror_mode": {
    "name": "ipython",
    "version": 3
   },
   "file_extension": ".py",
   "mimetype": "text/x-python",
   "name": "python",
   "nbconvert_exporter": "python",
   "pygments_lexer": "ipython3",
   "version": "3.11.5"
  }
 },
 "nbformat": 4,
 "nbformat_minor": 2
}
