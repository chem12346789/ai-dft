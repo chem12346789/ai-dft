{
 "cells": [
  {
   "cell_type": "code",
   "execution_count": 8,
   "metadata": {},
   "outputs": [
    {
     "name": "stdout",
     "output_type": "stream",
     "text": [
      "180\n"
     ]
    }
   ],
   "source": [
    "import json\n",
    "from pathlib import Path\n",
    "\n",
    "json_path_l = list(Path(\"/home/dhem/workspace/2024.1/data/grids_mrks\").rglob(\"*.json\"))\n",
    "\n",
    "\n",
    "print(len(json_path_l))\n",
    "for json_path in json_path_l:\n",
    "    # check if same name npz file exists\n",
    "    if not Path(json_path.with_suffix(\".npz\")).exists():\n",
    "        print(Path(json_path.with_suffix(\".npz\")))\n",
    "    with open(json_path) as f:\n",
    "        data = json.load(f)\n",
    "\n",
    "    if float(data[\"energy_inv1\"]) > 1:\n",
    "        print(data[\"energy_inv1\"], json_path)"
   ]
  },
  {
   "cell_type": "markdown",
   "metadata": {},
   "source": []
  },
  {
   "cell_type": "code",
   "execution_count": null,
   "metadata": {},
   "outputs": [],
   "source": []
  }
 ],
 "metadata": {
  "kernelspec": {
   "display_name": "base",
   "language": "python",
   "name": "python3"
  },
  "language_info": {
   "codemirror_mode": {
    "name": "ipython",
    "version": 3
   },
   "file_extension": ".py",
   "mimetype": "text/x-python",
   "name": "python",
   "nbconvert_exporter": "python",
   "pygments_lexer": "ipython3",
   "version": "3.12.4"
  }
 },
 "nbformat": 4,
 "nbformat_minor": 2
}
