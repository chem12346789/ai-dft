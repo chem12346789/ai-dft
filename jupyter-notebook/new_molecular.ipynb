{
 "cells": [
  {
   "cell_type": "code",
   "execution_count": 7,
   "metadata": {},
   "outputs": [],
   "source": [
    "import pubchempy as pcp\n",
    "\n",
    "# c_list = pcp.get_compounds(\"C6H12\", \"formula\", record_type=\"3d\")\n",
    "search_name = \"Cyclopropene\"\n",
    "c_list = pcp.get_compounds(search_name, \"name\", record_type=\"3d\")\n",
    "\n",
    "c_list_clean = []\n",
    "for c in c_list:\n",
    "    if c.cid < 100000:\n",
    "        c_list_clean.append(c)\n",
    "\n",
    "for c in c_list_clean:\n",
    "    print(c.cid, c.iupac_name, c.synonyms[0])\n",
    "# c_list_clean.pop()\n",
    "# for c in c_list_clean:\n",
    "#     print(c.cid, c.iupac_name, c.synonyms[0])"
   ]
  },
  {
   "cell_type": "code",
   "execution_count": 8,
   "metadata": {},
   "outputs": [],
   "source": [
    "from pyscf.geomopt.geometric_solver import optimize\n",
    "from pyscf import gto, scf\n",
    "import json\n",
    "import copy\n",
    "import json\n",
    "\n",
    "with open(\"../cadft/utils/mol.json\") as f:\n",
    "    data = json.load(f)\n",
    "\n",
    "dict_ = {}\n",
    "\n",
    "for c in c_list_clean:\n",
    "    name = search_name\n",
    "    # if name is None:\n",
    "    #     name = c.synonyms[0]\n",
    "    # if name is None:\n",
    "    #     print(\"No name for\", c.cid)\n",
    "    #     continue\n",
    "    name = name.lower().replace(\" \", \"_\")\n",
    "\n",
    "    molecular = []\n",
    "    for c_atom in c.atoms:\n",
    "        atom = []\n",
    "        atom.append(c_atom.element)\n",
    "        atom.append(round(c_atom.x, 4))\n",
    "        atom.append(round(c_atom.y, 4))\n",
    "        atom.append(round(c_atom.z, 4))\n",
    "        molecular.append(atom)\n",
    "\n",
    "    mol = gto.M(atom=molecular, basis=\"ccpvdz\")\n",
    "    mdft = mol.KS()\n",
    "    mdft.xc = \"b3lyp\"\n",
    "    mdft.kernel()\n",
    "    mol_eq = optimize(mdft, maxsteps=100, verbose=0)\n",
    "\n",
    "    molecular_new = copy.deepcopy(molecular)\n",
    "    for i, atom in enumerate(molecular_new):\n",
    "        atom[1] = mol_eq.atom_coords(unit=\"ANG\")[i][0]\n",
    "        atom[2] = mol_eq.atom_coords(unit=\"ANG\")[i][1]\n",
    "        atom[3] = mol_eq.atom_coords(unit=\"ANG\")[i][2]\n",
    "\n",
    "    dict_[name] = molecular\n",
    "\n",
    "data.update(dict_)\n",
    "\n",
    "with open(\"../cadft/utils/mol.json\", \"w\") as f:\n",
    "    json.dump(data, f)"
   ]
  },
  {
   "cell_type": "code",
   "execution_count": null,
   "metadata": {},
   "outputs": [],
   "source": []
  }
 ],
 "metadata": {
  "kernelspec": {
   "display_name": "pyscf",
   "language": "python",
   "name": "python3"
  },
  "language_info": {
   "codemirror_mode": {
    "name": "ipython",
    "version": 3
   },
   "file_extension": ".py",
   "mimetype": "text/x-python",
   "name": "python",
   "nbconvert_exporter": "python",
   "pygments_lexer": "ipython3",
   "version": "3.11.5"
  }
 },
 "nbformat": 4,
 "nbformat_minor": 2
}
