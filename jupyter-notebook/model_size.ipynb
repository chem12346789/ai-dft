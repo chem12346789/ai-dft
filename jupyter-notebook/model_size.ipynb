{
 "cells": [
  {
   "cell_type": "code",
   "execution_count": 6,
   "metadata": {},
   "outputs": [
    {
     "name": "stdout",
     "output_type": "stream",
     "text": [
      "====================================================================================================\n",
      "Layer (type:depth-idx)                             Output Shape              Param #\n",
      "====================================================================================================\n",
      "UNet                                               [1, 1, 75, 302]           --\n",
      "├─UnetPlusPlus: 1-1                                [1, 1, 96, 320]           --\n",
      "│    └─ResNetEncoder: 2-1                          [1, 1, 96, 320]           10,493,440\n",
      "│    │    └─Conv2d: 3-1                            [1, 64, 48, 160]          3,136\n",
      "│    │    └─BatchNorm2d: 3-2                       [1, 64, 48, 160]          128\n",
      "│    │    └─ReLU: 3-3                              [1, 64, 48, 160]          --\n",
      "│    │    └─MaxPool2d: 3-4                         [1, 64, 24, 80]           --\n",
      "│    │    └─Sequential: 3-5                        [1, 64, 24, 80]           147,968\n",
      "│    │    └─Sequential: 3-6                        [1, 128, 12, 40]          525,568\n",
      "│    └─UnetPlusPlusDecoder: 2-2                    [1, 32, 96, 320]          --\n",
      "│    │    └─ModuleDict: 3-7                        --                        692,352\n",
      "│    └─SegmentationHead: 2-3                       [1, 1, 96, 320]           --\n",
      "│    │    └─Conv2d: 3-8                            [1, 1, 96, 320]           289\n",
      "│    │    └─Identity: 3-9                          [1, 1, 96, 320]           --\n",
      "│    │    └─Activation: 3-10                       [1, 1, 96, 320]           --\n",
      "====================================================================================================\n",
      "Total params: 11,862,881\n",
      "Trainable params: 11,862,881\n",
      "Non-trainable params: 0\n",
      "Total mult-adds (Units.GIGABYTES): 4.39\n",
      "====================================================================================================\n",
      "Input size (MB): 0.09\n",
      "Forward/backward pass size (MB): 91.67\n",
      "Params size (MB): 5.48\n",
      "Estimated Total Size (MB): 97.24\n",
      "====================================================================================================\n"
     ]
    }
   ],
   "source": [
    "from torchinfo import summary\n",
    "import segmentation_models_pytorch as smp\n",
    "\n",
    "import torch\n",
    "import torch.nn as nn\n",
    "\n",
    "from cadft.utils import ModelDict\n",
    "\n",
    "device = torch.device(\"cuda\" if torch.cuda.is_available() else \"cpu\")\n",
    "modeldict = ModelDict(\n",
    "    \"\",\n",
    "    16,\n",
    "    3,\n",
    "    5,\n",
    "    device,\n",
    "    \"float32\",\n",
    "    if_mkdir=False,\n",
    ")\n",
    "\n",
    "print(\n",
    "    summary(\n",
    "        modeldict.model_dict[\"1\"],\n",
    "        input_size=(1, 1, 75, 302),\n",
    "        dtypes=[torch.float32],\n",
    "        mode=\"train\",\n",
    "    )\n",
    ")"
   ]
  },
  {
   "cell_type": "code",
   "execution_count": 3,
   "metadata": {},
   "outputs": [
    {
     "data": {
      "text/plain": [
       "34452.34"
      ]
     },
     "execution_count": 3,
     "metadata": {},
     "output_type": "execute_result"
    }
   ],
   "source": [
    "34398.28 + 27.03 * 2"
   ]
  },
  {
   "cell_type": "code",
   "execution_count": null,
   "metadata": {},
   "outputs": [],
   "source": []
  }
 ],
 "metadata": {
  "kernelspec": {
   "display_name": "pyscf",
   "language": "python",
   "name": "python3"
  },
  "language_info": {
   "codemirror_mode": {
    "name": "ipython",
    "version": 3
   },
   "file_extension": ".py",
   "mimetype": "text/x-python",
   "name": "python",
   "nbconvert_exporter": "python",
   "pygments_lexer": "ipython3",
   "version": "3.11.5"
  }
 },
 "nbformat": 4,
 "nbformat_minor": 2
}
