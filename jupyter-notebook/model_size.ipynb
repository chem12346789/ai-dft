{
 "cells": [
  {
   "cell_type": "code",
   "execution_count": 1,
   "metadata": {},
   "outputs": [
    {
     "name": "stdout",
     "output_type": "stream",
     "text": [
      "==========================================================================================\n",
      "Layer (type:depth-idx)                   Output Shape              Param #\n",
      "==========================================================================================\n",
      "FCNet                                    [75, 302]                 604\n",
      "├─ModuleList: 1-10                       --                        (recursive)\n",
      "│    └─Linear: 2-1                       [75, 302]                 91,506\n",
      "├─ModuleList: 1-8                        --                        (recursive)\n",
      "│    └─BatchNorm1d: 2-2                  [75, 302]                 604\n",
      "├─ReLU: 1-3                              [75, 302]                 --\n",
      "├─ModuleList: 1-10                       --                        (recursive)\n",
      "│    └─Linear: 2-3                       [75, 302]                 91,506\n",
      "├─ModuleList: 1-8                        --                        (recursive)\n",
      "│    └─BatchNorm1d: 2-4                  [75, 302]                 604\n",
      "├─ReLU: 1-6                              [75, 302]                 --\n",
      "├─ModuleList: 1-10                       --                        (recursive)\n",
      "│    └─Linear: 2-5                       [75, 302]                 91,506\n",
      "├─ModuleList: 1-8                        --                        (recursive)\n",
      "│    └─BatchNorm1d: 2-6                  [75, 302]                 604\n",
      "├─ReLU: 1-9                              [75, 302]                 --\n",
      "├─ModuleList: 1-10                       --                        (recursive)\n",
      "│    └─Linear: 2-7                       [75, 302]                 91,506\n",
      "==========================================================================================\n",
      "Total params: 368,440\n",
      "Trainable params: 368,440\n",
      "Non-trainable params: 0\n",
      "Total mult-adds (Units.MEGABYTES): 27.59\n",
      "==========================================================================================\n",
      "Input size (MB): 0.09\n",
      "Forward/backward pass size (MB): 1.27\n",
      "Params size (MB): 1.47\n",
      "Estimated Total Size (MB): 2.83\n",
      "==========================================================================================\n"
     ]
    },
    {
     "name": "stderr",
     "output_type": "stream",
     "text": [
      "/home/chenzihao/anaconda3/lib/python3.11/site-packages/pyscf/dft/libxc.py:771: UserWarning: Since PySCF-2.3, B3LYP (and B3P86) are changed to the VWN-RPA variant, corresponding to the original definition by Stephens et al. (issue 1480) and the same as the B3LYP functional in Gaussian. To restore the VWN5 definition, you can put the setting \"B3LYP_WITH_VWN5 = True\" in pyscf_conf.py\n",
      "  warnings.warn('Since PySCF-2.3, B3LYP (and B3P86) are changed to the VWN-RPA variant, '\n"
     ]
    }
   ],
   "source": [
    "from torchinfo import summary\n",
    "import segmentation_models_pytorch as smp\n",
    "\n",
    "import torch\n",
    "import torch.nn as nn\n",
    "\n",
    "from cadft.utils import ModelDict\n",
    "\n",
    "device = torch.device(\"cuda\" if torch.cuda.is_available() else \"cpu\")\n",
    "modeldict = ModelDict(\n",
    "    \"\",\n",
    "    302,\n",
    "    302,\n",
    "    302,\n",
    "    3,\n",
    "    5,\n",
    "    device,\n",
    "    \"float32\",\n",
    "    if_mkdir=False,\n",
    ")\n",
    "\n",
    "print(\n",
    "    summary(\n",
    "        modeldict.model_dict[\"1\"],\n",
    "        input_size=(75, 302),\n",
    "        depth=10,\n",
    "        dtypes=[torch.float32],\n",
    "        mode=\"train\",\n",
    "    )\n",
    ")"
   ]
  },
  {
   "cell_type": "code",
   "execution_count": 3,
   "metadata": {},
   "outputs": [
    {
     "data": {
      "text/plain": [
       "34452.34"
      ]
     },
     "execution_count": 3,
     "metadata": {},
     "output_type": "execute_result"
    }
   ],
   "source": [
    "34398.28 + 27.03 * 2"
   ]
  },
  {
   "cell_type": "code",
   "execution_count": null,
   "metadata": {},
   "outputs": [],
   "source": []
  }
 ],
 "metadata": {
  "kernelspec": {
   "display_name": "pyscf",
   "language": "python",
   "name": "python3"
  },
  "language_info": {
   "codemirror_mode": {
    "name": "ipython",
    "version": 3
   },
   "file_extension": ".py",
   "mimetype": "text/x-python",
   "name": "python",
   "nbconvert_exporter": "python",
   "pygments_lexer": "ipython3",
   "version": "3.11.5"
  }
 },
 "nbformat": 4,
 "nbformat_minor": 2
}
