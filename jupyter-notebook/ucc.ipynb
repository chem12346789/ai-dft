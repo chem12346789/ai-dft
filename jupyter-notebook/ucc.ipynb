{
 "cells": [
  {
   "cell_type": "code",
   "execution_count": 1,
   "metadata": {},
   "outputs": [
    {
     "name": "stdout",
     "output_type": "stream",
     "text": [
      "converged SCF energy = -149.545462566072  <S^2> = 2.0335659  2S+1 = 3.0222944\n",
      "E(UCCSD) = -149.781022021989  E_corr = -0.2355594559174386\n"
     ]
    }
   ],
   "source": [
    "from pyscf import gto, scf, dft\n",
    "import pyscf\n",
    "import numpy as np\n",
    "\n",
    "mol = gto.Mole()\n",
    "mol.atom = [[\"O\", (0.0, 0.0, 0.0)], [\"O\", (1.21, 0.0, 0.0)]]\n",
    "mol.basis = \"6-31g\"\n",
    "mol.spin = 2\n",
    "mol.build()\n",
    "mf = scf.HF(mol).run()\n",
    "\n",
    "ucc = pyscf.cc.CCSD(mf)\n",
    "ucc.kernel()\n",
    "\n",
    "dm1_cc = ucc.make_rdm1(ao_repr=True)\n",
    "dm2_cc = ucc.make_rdm2(ao_repr=True)\n",
    "e_cc = ucc.e_tot\n",
    "eri = mol.intor(\"int2e\")\n",
    "h1e = mol.intor(\"int1e_kin\") + mol.intor(\"int1e_nuc\")"
   ]
  },
  {
   "cell_type": "code",
   "execution_count": 2,
   "metadata": {},
   "outputs": [
    {
     "name": "stdout",
     "output_type": "stream",
     "text": [
      "Error: 0.00000 Ha\n"
     ]
    }
   ],
   "source": [
    "ene_cc_ele = (\n",
    "    np.einsum(\"pq,pq->\", h1e, dm1_cc[0] + dm1_cc[1])\n",
    "    + 0.5 * np.einsum(\"pqrs,pqrs->\", eri, dm2_cc[0] + 2 * dm2_cc[1] + dm2_cc[2])\n",
    "    + mol.energy_nuc()\n",
    ")\n",
    "\n",
    "print(f\"Error: {(ene_cc_ele - e_cc):.5f} Ha\")"
   ]
  },
  {
   "cell_type": "code",
   "execution_count": 5,
   "metadata": {},
   "outputs": [
    {
     "data": {
      "text/plain": [
       "(9, 7)"
      ]
     },
     "execution_count": 5,
     "metadata": {},
     "output_type": "execute_result"
    }
   ],
   "source": []
  },
  {
   "cell_type": "code",
   "execution_count": null,
   "metadata": {},
   "outputs": [],
   "source": []
  }
 ],
 "metadata": {
  "kernelspec": {
   "display_name": "pyscf",
   "language": "python",
   "name": "python3"
  },
  "language_info": {
   "codemirror_mode": {
    "name": "ipython",
    "version": 3
   },
   "file_extension": ".py",
   "mimetype": "text/x-python",
   "name": "python",
   "nbconvert_exporter": "python",
   "pygments_lexer": "ipython3",
   "version": "3.12.4"
  }
 },
 "nbformat": 4,
 "nbformat_minor": 2
}
