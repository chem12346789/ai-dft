{
 "cells": [
  {
   "cell_type": "code",
   "execution_count": 15,
   "metadata": {},
   "outputs": [],
   "source": [
    "import pandas as pd\n",
    "\n",
    "csv1 = pd.read_csv(\"../validate/ccdft-2024-06-25-16-15-04-64-4-0_bk1\")\n",
    "csv2 = pd.read_csv(\"../validate/ccdft-2024-06-25-16-15-04-64-4-0_bk2\")\n",
    "csv1._append(csv2).to_csv(\n",
    "    \"../validate/ccdft-2024-06-25-16-15-04-64-4-0\", index=False, float_format=\"%.16f\"\n",
    ")\n",
    "# csv1._append(csv2)"
   ]
  },
  {
   "cell_type": "code",
   "execution_count": 3,
   "metadata": {},
   "outputs": [],
   "source": [
    "import pandas as pd\n",
    "\n",
    "csv_dft = pd.read_csv(\"../validate/dft\")\n",
    "csv_dft_eq = csv_dft.loc[csv_dft[\"name\"].str.contains(f\"0_1_0.0000\")]\n",
    "csv_dft_eq.to_csv(\"../validate/dft\", index=False, float_format=\"%.16f\")\n",
    "# csv2 = pd.read_csv(\"../validate/ccdft-2024-06-25-16-15-04-64-4-0_bk2\")\n",
    "# csv1._append(csv2).to_csv(\n",
    "#     \"../validate/ccdft-2024-06-25-16-15-04-64-4-0\", index=False, float_format=\"%.16f\"\n",
    "# )\n",
    "# csv1._append(csv2)"
   ]
  },
  {
   "cell_type": "code",
   "execution_count": null,
   "metadata": {},
   "outputs": [],
   "source": []
  }
 ],
 "metadata": {
  "kernelspec": {
   "display_name": "base",
   "language": "python",
   "name": "python3"
  },
  "language_info": {
   "codemirror_mode": {
    "name": "ipython",
    "version": 3
   },
   "file_extension": ".py",
   "mimetype": "text/x-python",
   "name": "python",
   "nbconvert_exporter": "python",
   "pygments_lexer": "ipython3",
   "version": "3.11.5"
  }
 },
 "nbformat": 4,
 "nbformat_minor": 2
}
