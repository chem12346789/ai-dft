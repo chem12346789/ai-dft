{
 "cells": [
  {
   "cell_type": "code",
   "execution_count": 1,
   "metadata": {},
   "outputs": [
    {
     "name": "stdout",
     "output_type": "stream",
     "text": [
      "converged SCF energy = -38.1963346277403\n",
      "--------------- RKS gradients ---------------\n",
      "         x                y                z\n",
      "0 H     0.0303926482    -0.0241273906     0.0000000000\n",
      "1 H    -0.0303926482    -0.0241273906     0.0000000000\n",
      "2 C     0.0000000000     0.0482568276     0.0000000000\n",
      "----------------------------------------------\n"
     ]
    },
    {
     "data": {
      "text/plain": [
       "array([[ 3.03926482e-02, -2.41273906e-02,  1.53101442e-16],\n",
       "       [-3.03926482e-02, -2.41273906e-02,  1.79660216e-16],\n",
       "       [ 4.29835332e-16,  4.82568276e-02,  4.85109178e-16]])"
      ]
     },
     "execution_count": 1,
     "metadata": {},
     "output_type": "execute_result"
    }
   ],
   "source": [
    "import numpy as np\n",
    "from pyscf import gto\n",
    "from pyscf import dft\n",
    "\n",
    "mol = gto.Mole()\n",
    "mol.atom = \"\"\"\n",
    "H     -0.70000   0.000000   0.000000\n",
    "H     0.700000   0.000000   0.000000\n",
    "C     0.000000   1.000000   0.000000\n",
    "\"\"\"\n",
    "mol.basis = \"6-31G\"\n",
    "mol.spin = 0\n",
    "mol.build()\n",
    "\n",
    "#\n",
    "# First converge a high-spin UKS calculation\n",
    "#\n",
    "mks = dft.RKS(mol)\n",
    "mks.xc = \"lda\"\n",
    "mks.kernel()\n",
    "\n",
    "g = mks.nuc_grad_method()\n",
    "g.kernel()"
   ]
  },
  {
   "cell_type": "code",
   "execution_count": 2,
   "metadata": {},
   "outputs": [],
   "source": [
    "fock_real = mks.get_fock()\n",
    "\n",
    "eri_ao = mks.mol.intor(\"int2e\")\n",
    "dm1 = mks.make_rdm1()\n",
    "fock_check = (\n",
    "    mks.mol.intor(\"int1e_kin\")\n",
    "    + mks.mol.intor(\"int1e_nuc\")\n",
    "    + np.einsum(\"uvkl, kl -> uv\", eri_ao, dm1)\n",
    ")\n",
    "fock_check = np.array([fock_check, fock_check])"
   ]
  },
  {
   "cell_type": "code",
   "execution_count": 15,
   "metadata": {},
   "outputs": [],
   "source": [
    "grids = dft.Grids(mol)\n",
    "grids.kernel()\n",
    "ao_0 = dft.numint.eval_ao(mks.mol, grids.coords, deriv=0)\n",
    "dm1_ks = mks.make_rdm1()\n",
    "\n",
    "scf_r = dft.numint.eval_rho(mks.mol, ao_0, dm1_ks)\n",
    "# oe_fock = oe.contract_expression(\n",
    "#     \"p,p,pa,pb->ab\",\n",
    "#     np.shape(dft2cc.ao_0[:, 0]),\n",
    "#     np.shape(dft2cc.ao_0[:, 0]),\n",
    "#     dft2cc.ao_0,\n",
    "#     dft2cc.ao_0,\n",
    "#     constants=[2, 3],\n",
    "#     optimize=\"optimal\",\n",
    "# )\n",
    "exc_lda = dft.libxc.eval_xc(\"lda\", scf_r)[0] * grids.weights\n",
    "exc_lda_cal = - 3 / 4 * (3 / np.pi) ** (1 / 3) * scf_r ** (1 / 3) * grids.weights"
   ]
  },
  {
   "cell_type": "code",
   "execution_count": 16,
   "metadata": {},
   "outputs": [
    {
     "data": {
      "text/plain": [
       "(np.float64(-68.73995864890199), np.float64(-68.73331122857232))"
      ]
     },
     "execution_count": 16,
     "metadata": {},
     "output_type": "execute_result"
    }
   ],
   "source": [
    "np.sum(exc_lda_cal), np.sum(exc_lda)"
   ]
  },
  {
   "cell_type": "code",
   "execution_count": null,
   "metadata": {},
   "outputs": [],
   "source": []
  }
 ],
 "metadata": {
  "kernelspec": {
   "display_name": "pyscf",
   "language": "python",
   "name": "python3"
  },
  "language_info": {
   "codemirror_mode": {
    "name": "ipython",
    "version": 3
   },
   "file_extension": ".py",
   "mimetype": "text/x-python",
   "name": "python",
   "nbconvert_exporter": "python",
   "pygments_lexer": "ipython3",
   "version": "3.12.4"
  }
 },
 "nbformat": 4,
 "nbformat_minor": 2
}
