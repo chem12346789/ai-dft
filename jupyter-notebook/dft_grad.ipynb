{
 "cells": [
  {
   "cell_type": "code",
   "execution_count": 7,
   "metadata": {},
   "outputs": [
    {
     "name": "stdout",
     "output_type": "stream",
     "text": [
      "converged SCF energy = -74.1880883148855\n",
      "--------------- RKS gradients ---------------\n",
      "         x                y                z\n",
      "0 C     0.0000000000     0.9651738639     0.0000000000\n",
      "1 C     0.0000000000    -0.9651738639     0.0000000000\n",
      "----------------------------------------------\n",
      "converged SCF energy = -75.17862689562\n",
      "E(CCSD) = -75.44156191103842  E_corr = -0.2629350154184319\n",
      "--------------- CCSD gradients ---------------\n",
      "         x                y                z\n",
      "0 C     0.0000000000     0.9279138145    -0.0000000000\n",
      "1 C    -0.0000000000    -0.9279138145     0.0000000000\n",
      "----------------------------------------------\n"
     ]
    },
    {
     "data": {
      "text/plain": [
       "array([[ 2.93174275e-16,  9.27913814e-01, -4.98192563e-17],\n",
       "       [-2.93174275e-16, -9.27913814e-01,  4.98192563e-17]])"
      ]
     },
     "execution_count": 7,
     "metadata": {},
     "output_type": "execute_result"
    }
   ],
   "source": [
    "import numpy as np\n",
    "import pyscf\n",
    "from pyscf import cc\n",
    "from pyscf import gto\n",
    "from pyscf import dft, scf\n",
    "from pyscf.grad import ccsd as ccsd_grad\n",
    "\n",
    "mol = gto.Mole()\n",
    "mol.atom = \"\"\"\n",
    "C     0.000000   0.000000   0.000000\n",
    "C     0.000000   1.000000   0.000000\n",
    "\"\"\"\n",
    "mol.basis = \"6-31G\"\n",
    "mol.spin = 0\n",
    "mol.build()\n",
    "\n",
    "#\n",
    "# First converge a high-spin UKS calculation\n",
    "#\n",
    "mks = dft.RKS(mol)\n",
    "mks.xc = \"lda\"\n",
    "mks.kernel()\n",
    "\n",
    "g = mks.nuc_grad_method()\n",
    "g.kernel()\n",
    "\n",
    "mhf = scf.RHF(mol)\n",
    "mhf.kernel()\n",
    "mycc = cc.CCSD(mhf)\n",
    "mycc.kernel()\n",
    "g = ccsd_grad.Gradients(mycc)\n",
    "g.kernel()"
   ]
  },
  {
   "cell_type": "code",
   "execution_count": 2,
   "metadata": {},
   "outputs": [],
   "source": [
    "fock_real = mks.get_fock()\n",
    "\n",
    "eri_ao = mks.mol.intor(\"int2e\")\n",
    "dm1 = mks.make_rdm1()\n",
    "fock_check = (\n",
    "    mks.mol.intor(\"int1e_kin\")\n",
    "    + mks.mol.intor(\"int1e_nuc\")\n",
    "    + np.einsum(\"uvkl, kl -> uv\", eri_ao, dm1)\n",
    ")\n",
    "fock_check = np.array([fock_check, fock_check])"
   ]
  },
  {
   "cell_type": "code",
   "execution_count": 15,
   "metadata": {},
   "outputs": [],
   "source": [
    "grids = dft.Grids(mol)\n",
    "grids.kernel()\n",
    "ao_0 = dft.numint.eval_ao(mks.mol, grids.coords, deriv=0)\n",
    "dm1_ks = mks.make_rdm1()\n",
    "\n",
    "scf_r = dft.numint.eval_rho(mks.mol, ao_0, dm1_ks)\n",
    "# oe_fock = oe.contract_expression(\n",
    "#     \"p,p,pa,pb->ab\",\n",
    "#     np.shape(dft2cc.ao_0[:, 0]),\n",
    "#     np.shape(dft2cc.ao_0[:, 0]),\n",
    "#     dft2cc.ao_0,\n",
    "#     dft2cc.ao_0,\n",
    "#     constants=[2, 3],\n",
    "#     optimize=\"optimal\",\n",
    "# )\n",
    "exc_lda = dft.libxc.eval_xc(\"lda\", scf_r)[0] * grids.weights\n",
    "exc_lda_cal = - 3 / 4 * (3 / np.pi) ** (1 / 3) * scf_r ** (1 / 3) * grids.weights"
   ]
  },
  {
   "cell_type": "code",
   "execution_count": 16,
   "metadata": {},
   "outputs": [
    {
     "data": {
      "text/plain": [
       "(np.float64(-68.73995864890199), np.float64(-68.73331122857232))"
      ]
     },
     "execution_count": 16,
     "metadata": {},
     "output_type": "execute_result"
    }
   ],
   "source": [
    "np.sum(exc_lda_cal), np.sum(exc_lda)"
   ]
  },
  {
   "cell_type": "code",
   "execution_count": null,
   "metadata": {},
   "outputs": [],
   "source": []
  }
 ],
 "metadata": {
  "kernelspec": {
   "display_name": "pyscf",
   "language": "python",
   "name": "python3"
  },
  "language_info": {
   "codemirror_mode": {
    "name": "ipython",
    "version": 3
   },
   "file_extension": ".py",
   "mimetype": "text/x-python",
   "name": "python",
   "nbconvert_exporter": "python",
   "pygments_lexer": "ipython3",
   "version": "3.12.4"
  }
 },
 "nbformat": 4,
 "nbformat_minor": 2
}
