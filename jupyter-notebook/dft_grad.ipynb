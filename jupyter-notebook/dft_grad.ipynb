{
 "cells": [
  {
   "cell_type": "code",
   "execution_count": 1,
   "metadata": {},
   "outputs": [
    {
     "name": "stdout",
     "output_type": "stream",
     "text": [
      "converged SCF energy = -38.1963346277403\n"
     ]
    },
    {
     "data": {
      "text/plain": [
       "np.float64(-38.196334627740285)"
      ]
     },
     "execution_count": 1,
     "metadata": {},
     "output_type": "execute_result"
    }
   ],
   "source": [
    "import numpy as np\n",
    "from pyscf import gto\n",
    "from pyscf import dft\n",
    "\n",
    "mol = gto.Mole()\n",
    "mol.atom = \"\"\"\n",
    "H     -0.70000   0.000000   0.000000\n",
    "H     0.700000   0.000000   0.000000\n",
    "C     0.000000   1.000000   0.000000\n",
    "\"\"\"\n",
    "mol.basis = \"6-31G\"\n",
    "mol.spin = 0\n",
    "mol.build()\n",
    "\n",
    "#\n",
    "# First converge a high-spin UKS calculation\n",
    "#\n",
    "mf = dft.RKS(mol)\n",
    "mf.xc = \"lda\"\n",
    "mf.kernel()"
   ]
  },
  {
   "cell_type": "code",
   "execution_count": 2,
   "metadata": {},
   "outputs": [
    {
     "name": "stdout",
     "output_type": "stream",
     "text": [
      "converged SCF energy = -38.6757934505527\n",
      "--------------- RKS gradients ---------------\n",
      "         x                y                z\n",
      "0 H     0.0249400844    -0.0319347306    -0.0000000000\n",
      "1 H    -0.0249400844    -0.0319347306    -0.0000000000\n",
      "2 C    -0.0000000000     0.0638715165     0.0000000000\n",
      "----------------------------------------------\n"
     ]
    },
    {
     "data": {
      "text/plain": [
       "array([[ 2.49400844e-02, -3.19347306e-02, -6.03709257e-16],\n",
       "       [-2.49400844e-02, -3.19347306e-02, -6.01487775e-16],\n",
       "       [-1.42329097e-16,  6.38715165e-02,  1.93703070e-15]])"
      ]
     },
     "execution_count": 2,
     "metadata": {},
     "output_type": "execute_result"
    }
   ],
   "source": [
    "def eval_xc(xc_code, rho, spin=0, relativity=0, deriv=1, omega=None, verbose=None):\n",
    "    # A fictitious XC functional to demonstrate the usage\n",
    "    rho0 = rho[:1]\n",
    "    exc = -3 / 4 * (3 / np.pi) ** (1 / 3) * rho0 ** (4 / 3)\n",
    "    vrho = 0.01 * 3 * rho0**2\n",
    "    vxc = (vrho, None, None, None)\n",
    "    return exc, vxc, None, None\n",
    "\n",
    "\n",
    "mf = dft.RKS(mol)\n",
    "mf = mf.define_xc_(eval_xc, \"LDA\")\n",
    "mf.kernel()\n",
    "g = mf.nuc_grad_method()\n",
    "g.kernel()"
   ]
  },
  {
   "cell_type": "code",
   "execution_count": 2,
   "metadata": {},
   "outputs": [
    {
     "name": "stdout",
     "output_type": "stream",
     "text": [
      "--------------- RKS gradients ---------------\n",
      "         x                y                z\n",
      "0 H     0.0303926482    -0.0241273906     0.0000000000\n",
      "1 H    -0.0303926482    -0.0241273906     0.0000000000\n",
      "2 C    -0.0000000000     0.0482568276    -0.0000000000\n",
      "----------------------------------------------\n"
     ]
    },
    {
     "data": {
      "text/plain": [
       "array([[ 3.03926482e-02, -2.41273906e-02,  1.60932395e-15],\n",
       "       [-3.03926482e-02, -2.41273906e-02,  1.62384621e-15],\n",
       "       [-3.94005272e-16,  4.82568276e-02, -2.14603562e-15]])"
      ]
     },
     "execution_count": 2,
     "metadata": {},
     "output_type": "execute_result"
    }
   ],
   "source": [
    "g = mf.nuc_grad_method()\n",
    "g.kernel()"
   ]
  },
  {
   "cell_type": "code",
   "execution_count": null,
   "metadata": {},
   "outputs": [],
   "source": []
  }
 ],
 "metadata": {
  "kernelspec": {
   "display_name": "pyscf",
   "language": "python",
   "name": "python3"
  },
  "language_info": {
   "codemirror_mode": {
    "name": "ipython",
    "version": 3
   },
   "file_extension": ".py",
   "mimetype": "text/x-python",
   "name": "python",
   "nbconvert_exporter": "python",
   "pygments_lexer": "ipython3",
   "version": "3.12.4"
  }
 },
 "nbformat": 4,
 "nbformat_minor": 2
}
