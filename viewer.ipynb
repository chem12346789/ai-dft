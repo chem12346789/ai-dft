{
 "cells": [
  {
   "cell_type": "code",
   "execution_count": 4,
   "metadata": {},
   "outputs": [
    {
     "name": "stdout",
     "output_type": "stream",
     "text": [
      "[ 43.03 149.17]\n",
      "[ 68.08 315.35]\n"
     ]
    }
   ],
   "source": [
    "import numpy as np\n",
    "import matplotlib.pyplot as plt\n",
    "\n",
    "\n",
    "mhatree_to_kcal = 0.6275094740631\n",
    "\n",
    "train_set, eval__set = [], []\n",
    "train_set.append([185.89158003098848, 445.34157216716665])\n",
    "eval__set.append([178.75854150564686, 662.4498123299053])\n",
    "\n",
    "train_set.append([68.57623712544817, 149.1687403205493])\n",
    "eval__set.append([108.49399374936273, 315.3520668758974])\n",
    "\n",
    "train_set.append([63.83055009148214, 130.2752650182697])\n",
    "eval__set.append([84.20118550610661, 264.7708749861897])\n",
    "\n",
    "# train_set.append([146.696, 376.323, 1159])\n",
    "# eval__set.append([169.518, 632.872, 244])\n",
    "\n",
    "train_set, eval__set = np.array(train_set), np.array(eval__set)\n",
    "train_set[:, 0] = mhatree_to_kcal * train_set[:, 0]\n",
    "eval__set[:, 0] = mhatree_to_kcal * eval__set[:, 0]\n",
    "\n",
    "print(np.array_str(train_set[-1, :], precision=2, suppress_small=True))\n",
    "print(np.array_str(eval__set[-1, :], precision=2, suppress_small=True))"
   ]
  },
  {
   "cell_type": "code",
   "execution_count": null,
   "metadata": {},
   "outputs": [],
   "source": [
    "plt.plot(train_set[:, 0], \"r\")\n",
    "plt.plot(eval__set[:, 0], \"b\")\n",
    "plt.plot(train_set[:, 1], \"r--\")\n",
    "plt.plot(eval__set[:, 1], \"b--\")\n",
    "plt.show()"
   ]
  }
 ],
 "metadata": {
  "kernelspec": {
   "display_name": "pyscf",
   "language": "python",
   "name": "python3"
  },
  "language_info": {
   "codemirror_mode": {
    "name": "ipython",
    "version": 3
   },
   "file_extension": ".py",
   "mimetype": "text/x-python",
   "name": "python",
   "nbconvert_exporter": "python",
   "pygments_lexer": "ipython3",
   "version": "3.11.5"
  }
 },
 "nbformat": 4,
 "nbformat_minor": 2
}
