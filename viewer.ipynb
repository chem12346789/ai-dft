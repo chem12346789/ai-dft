{
 "cells": [
  {
   "cell_type": "code",
   "execution_count": 4,
   "metadata": {},
   "outputs": [
    {
     "name": "stdout",
     "output_type": "stream",
     "text": [
      "[ 43.03 149.17]\n",
      "[ 68.08 315.35]\n"
     ]
    }
   ],
   "source": [
    "self.mdft.xc = \"b3lyp\"\n",
    "dm1 = self.mdft.make_rdm1()\n",
    "ao_value = ni.eval_ao(self.mol, self.grids.coords, deriv=1)\n",
    "rho = ni.eval_rho(self.mol, ao_value, dm1, xctype=\"MGGA\")\n",
    "exc, vxc = dft.libxc.eval_xc(self.mdft.xc, rho)[:2]\n",
    "vxc = vxc[0]\n",
    "xc_v = self.aux_function.oe_fock(vxc, self.grids.weights)\n",
    "# exc +=\n",
    "self.logger.info(f\"\\nExc = {np.sum(exc * rho[0] * self.grids.weights)}\\n\")\n",
    "\n",
    "e_nuc = oe.contract(\"ij,ji->\", self.h1e, dm1)\n",
    "e_vj = oe.contract(\"pqrs,pq,rs->\", self.eri, dm1, dm1)\n",
    "e_vk = oe.contract(\"pqrs,pr,qs->\", self.eri, dm1, dm1)\n",
    "ene_t_vc = (\n",
    "    e_nuc\n",
    "    + self.mol.energy_nuc()\n",
    "    + e_vj * 0.5\n",
    "    - e_vk * 0.05\n",
    "    + (exc * rho[0] * self.grids.weights).sum()\n",
    ")\n",
    "self.logger.info(f\"Ene_t_vc = {ene_t_vc}\\n\")\n",
    "self.logger.info(f\"Total energy = {self.mdft.e_tot}\\n\")\n",
    "self.logger.info(f\"Shape of vxc: {np.shape(vxc)}\\n\")\n",
    "self.logger.info(f\"Shape of weights: {np.shape(self.grids.weights)}\\n\")\n",
    "self.logger.info(\n",
    "    f\"Before scf: {np.array2string(dm1, precision=4, separator=',', suppress_small=True)}\\n\"\n",
    ")\n",
    "\n",
    "for step in range(200):\n",
    "    rho = ni.eval_rho(self.mol, ao_value, dm1, xctype=\"MGGA\")\n",
    "    exc, vxc = dft.libxc.eval_xc(self.mdft.xc, rho)[:2]\n",
    "    rho_1 = 2 * np.einsum(\"uv, rgu, gv -> rg\", dm1, self.ao_1, self.ao_0)\n",
    "\n",
    "    xc_v = 0.5 * self.aux_function.oe_fock(vxc[0], self.grids.weights)\n",
    "    xc_v += 2 * oe.contract(\n",
    "        \"g, g, rg, rgu, gv -> uv\",\n",
    "        vxc[1],\n",
    "        self.grids.weights,\n",
    "        rho_1,\n",
    "        self.ao_1,\n",
    "        self.ao_0,\n",
    "    )\n",
    "    xc_v = xc_v + xc_v.T\n",
    "    vjk = self.myhf.get_jk(self.mol, dm1, 1)\n",
    "\n",
    "    fock_a = self.mat_hs @ (self.h1e + vjk[0] + xc_v) @ self.mat_hs\n",
    "    _, mo = np.linalg.eigh(fock_a)\n",
    "    mo = self.mat_hs @ mo\n",
    "    dm1_old = dm1.copy()\n",
    "    dm1 = 2 * mo[:, : self.nocc] @ mo[:, : self.nocc].T\n",
    "    error = np.linalg.norm(dm1 - dm1_old)\n",
    "    dm1 = self.hybrid(dm1, dm1_old)\n",
    "\n",
    "self.logger.info(f\"step: {step:<8} error of dm1, {error:.2e}\\n\")\n",
    "self.logger.info(\n",
    "    f\"After scf: {np.array2string(dm1, precision=4, separator=',', suppress_small=True)}\\n\"\n",
    ")"
   ]
  },
  {
   "cell_type": "code",
   "execution_count": null,
   "metadata": {},
   "outputs": [],
   "source": [
    "plt.plot(train_set[:, 0], \"r\")\n",
    "plt.plot(eval__set[:, 0], \"b\")\n",
    "plt.plot(train_set[:, 1], \"r--\")\n",
    "plt.plot(eval__set[:, 1], \"b--\")\n",
    "plt.show()"
   ]
  },
  {
   "cell_type": "code",
   "execution_count": 4,
   "metadata": {},
   "outputs": [
    {
     "name": "stdout",
     "output_type": "stream",
     "text": [
      "[-0.25 -0.2  -0.15 -0.1  -0.05  0.    0.05  0.1   0.15  0.2   0.25]\n",
      "[-0.225 -0.175 -0.125 -0.075 -0.025  0.025  0.075  0.125  0.175  0.225]\n",
      "[-0.5   -0.475 -0.45  -0.425 -0.4   -0.375 -0.35  -0.325 -0.3   -0.275]\n",
      "[0.275 0.3   0.325 0.35  0.375 0.4   0.425 0.45  0.475 0.5  ]\n",
      "[-0.475 -0.45  -0.425 -0.4   -0.375 -0.35  -0.325 -0.3  ]\n",
      "[-0.5     -0.44375 -0.3875  -0.33125 -0.275  ]\n"
     ]
    }
   ],
   "source": [
    "import numpy as np\n",
    "print(np.linspace(-0.25, 0.25, 11))\n",
    "print(np.linspace(-0.225, 0.225, 10))\n",
    "print(np.linspace(-0.5, -0.275, 10))\n",
    "print(np.linspace(0.275, 0.5, 10))\n",
    "\n",
    "print(np.linspace(-0.475, -0.3, 8))\n",
    "print(np.linspace(-0.5, -0.275, 5))\n"
   ]
  },
  {
   "cell_type": "code",
   "execution_count": null,
   "metadata": {},
   "outputs": [],
   "source": [
    "0.4437 0.3875 0.3313"
   ]
  }
 ],
 "metadata": {
  "kernelspec": {
   "display_name": "pyscf",
   "language": "python",
   "name": "python3"
  },
  "language_info": {
   "codemirror_mode": {
    "name": "ipython",
    "version": 3
   },
   "file_extension": ".py",
   "mimetype": "text/x-python",
   "name": "python",
   "nbconvert_exporter": "python",
   "pygments_lexer": "ipython3",
   "version": "3.11.5"
  }
 },
 "nbformat": 4,
 "nbformat_minor": 2
}
