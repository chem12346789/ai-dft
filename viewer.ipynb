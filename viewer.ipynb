{
 "cells": [
  {
   "cell_type": "code",
   "execution_count": 9,
   "metadata": {},
   "outputs": [
    {
     "name": "stdout",
     "output_type": "stream",
     "text": [
      "[43.03 93.6 ]\n",
      "[108.49 669.17]\n"
     ]
    }
   ],
   "source": [
    "import numpy as np\n",
    "import matplotlib.pyplot as plt\n",
    "\n",
    "\n",
    "mhatree_to_kcal = 0.6275094740631\n",
    "\n",
    "train_set, eval__set = [], []\n",
    "train_set.append([185.89158003098848, 445.34157216716665])\n",
    "eval__set.append([178.75854150564686, 662.4498123299053])\n",
    "\n",
    "train_set.append([68.57623712544817, 149.1687403205493])\n",
    "eval__set.append([108.49399374936273, 669.175])\n",
    "\n",
    "# train_set.append([146.696, 376.323, 1159])\n",
    "# eval__set.append([169.518, 632.872, 244])\n",
    "\n",
    "train_set, eval__set = np.array(train_set), np.array(eval__set)\n",
    "train_set = mhatree_to_kcal * train_set\n",
    "\n",
    "print(np.array_str(train_set[-1, :], precision=2, suppress_small=True))\n",
    "print(np.array_str(eval__set[-1, :], precision=2, suppress_small=True))"
   ]
  },
  {
   "cell_type": "code",
   "execution_count": null,
   "metadata": {},
   "outputs": [],
   "source": [
    "plt.plot(train_set[:, 0], \"r\")\n",
    "plt.plot(eval__set[:, 0], \"b\")\n",
    "plt.plot(train_set[:, 1], \"r--\")\n",
    "plt.plot(eval__set[:, 1], \"b--\")\n",
    "plt.show()"
   ]
  },
  {
   "cell_type": "code",
   "execution_count": 1,
   "metadata": {},
   "outputs": [
    {
     "name": "stdout",
     "output_type": "stream",
     "text": [
      "[-0.25 -0.2  -0.15 -0.1  -0.05  0.    0.05  0.1   0.15  0.2   0.25]\n",
      "[-0.225 -0.175 -0.125 -0.075 -0.025  0.025  0.075  0.125  0.175  0.225]\n",
      "[-0.5   -0.475 -0.45  -0.425 -0.4   -0.375 -0.35  -0.325 -0.3   -0.275]\n",
      "[0.275 0.3   0.325 0.35  0.375 0.4   0.425 0.45  0.475 0.5  ]\n",
      "[-0.5  -0.45 -0.4  -0.35 -0.3  -0.25 -0.2  -0.15 -0.1  -0.05  0.    0.05\n",
      "  0.1   0.15  0.2   0.25  0.3   0.35  0.4   0.45  0.5 ]\n"
     ]
    }
   ],
   "source": [
    "import numpy as np\n",
    "print(np.linspace(-0.25, 0.25, 11))\n",
    "print(np.linspace(-0.225, 0.225, 10))\n",
    "print(np.linspace(-0.5, -0.275, 10))\n",
    "print(np.linspace(0.275, 0.5, 10))\n",
    "\n",
    "print(np.linspace(-0.5, 0.5, 21))\n"
   ]
  },
  {
   "cell_type": "code",
   "execution_count": null,
   "metadata": {},
   "outputs": [],
   "source": []
  },
  {
   "cell_type": "markdown",
   "metadata": {},
   "source": [
    "python cadft/train_model.py -dl -0.25 0.25 11 -b cc-pvdz --extend_atom 0 1 --extend_xyz 0 1 2 --eval_step 25 --load checkpoint2024-04-30-16-02-30;python gen_dm_ene.py -dl -0.5 -0.275 5 -b cc-pvdz --extend_atom 0 1 --extend_xyz 0 1 2 --name_mol Methane Ethane Ethylene Acetylene Allene Cyclopropene Propyne Cyclopropane Propylene Propane Isobutane Butane Butadiene Butyne Bicyclobutane Cyclopropylmethyl Cyclobutane Spiropentane Benzene Pentane Isopentane Neopentane Cyclopentane;python gen_dm_ene.py -dl 0.275 0.5 10 -b cc-pvdz --extend_atom 0 1 --extend_xyz 0 1 2 --name_mol Methane Ethane Ethylene Acetylene Allene Cyclopropene Propyne Cyclopropane Propylene Propane Isobutane Butane Butadiene Butyne Bicyclobutane Cyclopropylmethyl Cyclobutane Spiropentane Benzene Pentane Isopentane Neopentane Cyclopentane;python gen_dm_ene.py -dl -0.225 0.225 10 -b cc-pvdz --extend_atom 0 1 --extend_xyz 0 1 2 --name_mol Methane Ethane Ethylene Acetylene Allene Cyclopropene Propyne Cyclopropane Propylene Propane Isobutane Butane Butadiene Butyne Bicyclobutane Cyclopropylmethyl Cyclobutane Spiropentane Benzene Pentane Isopentane Neopentane Cyclopentane"
   ]
  }
 ],
 "metadata": {
  "kernelspec": {
   "display_name": "pyscf",
   "language": "python",
   "name": "python3"
  },
  "language_info": {
   "codemirror_mode": {
    "name": "ipython",
    "version": 3
   },
   "file_extension": ".py",
   "mimetype": "text/x-python",
   "name": "python",
   "nbconvert_exporter": "python",
   "pygments_lexer": "ipython3",
   "version": "3.11.5"
  }
 },
 "nbformat": 4,
 "nbformat_minor": 2
}
