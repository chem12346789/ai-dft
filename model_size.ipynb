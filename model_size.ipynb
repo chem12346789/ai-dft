{
 "cells": [
  {
   "cell_type": "code",
   "execution_count": 23,
   "metadata": {},
   "outputs": [
    {
     "name": "stdout",
     "output_type": "stream",
     "text": [
      "===============================================================================================\n",
      "Layer (type:depth-idx)                        Output Shape              Param #\n",
      "===============================================================================================\n",
      "UnetPlusPlus                                  [110, 2, 96, 320]         --\n",
      "├─ResNetEncoder: 1-1                          [110, 1, 96, 320]         21,278,400\n",
      "├─UnetPlusPlusDecoder: 1-2                    [110, 32, 96, 320]        10,576,512\n",
      "├─SegmentationHead: 1-3                       [110, 2, 96, 320]         578\n",
      "===============================================================================================\n",
      "Total params: 31,855,490\n",
      "Trainable params: 31,855,490\n",
      "Non-trainable params: 0\n",
      "Total mult-adds (Units.TERABYTES): 1.37\n",
      "===============================================================================================\n",
      "Input size (MB): 27.03\n",
      "Forward/backward pass size (MB): 34116.40\n",
      "Params size (MB): 254.84\n",
      "Estimated Total Size (MB): 34398.28\n",
      "===============================================================================================\n"
     ]
    }
   ],
   "source": [
    "from torchinfo import summary\n",
    "import segmentation_models_pytorch as smp\n",
    "\n",
    "import torch\n",
    "import torch.nn as nn\n",
    "\n",
    "device = torch.device(\"cuda\" if torch.cuda.is_available() else \"cpu\")\n",
    "\n",
    "# model = UNet(1, 1)\n",
    "model = smp.UnetPlusPlus(\n",
    "    encoder_name=\"resnet34\",\n",
    "    decoder_channels=(512, 256, 128, 64, 32),\n",
    "    in_channels=1,\n",
    "    classes=2,\n",
    ")\n",
    "model = model.to(device)\n",
    "model.double()\n",
    "\n",
    "print(\n",
    "    summary(\n",
    "        model,\n",
    "        input_size=(110, 1, 96, 320),\n",
    "        depth=1,\n",
    "        dtypes=[torch.float64],\n",
    "        mode=\"train\",\n",
    "    )\n",
    ")"
   ]
  },
  {
   "cell_type": "code",
   "execution_count": 25,
   "metadata": {},
   "outputs": [
    {
     "data": {
      "text/plain": [
       "56022.28"
      ]
     },
     "execution_count": 25,
     "metadata": {},
     "output_type": "execute_result"
    }
   ],
   "source": [
    "34398.28 + 27.03 * 800"
   ]
  },
  {
   "cell_type": "code",
   "execution_count": null,
   "metadata": {},
   "outputs": [],
   "source": []
  }
 ],
 "metadata": {
  "kernelspec": {
   "display_name": "pyscf",
   "language": "python",
   "name": "python3"
  },
  "language_info": {
   "codemirror_mode": {
    "name": "ipython",
    "version": 3
   },
   "file_extension": ".py",
   "mimetype": "text/x-python",
   "name": "python",
   "nbconvert_exporter": "python",
   "pygments_lexer": "ipython3",
   "version": "3.11.5"
  }
 },
 "nbformat": 4,
 "nbformat_minor": 2
}
