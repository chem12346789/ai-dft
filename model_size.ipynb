{
 "cells": [
  {
   "cell_type": "code",
   "execution_count": 4,
   "metadata": {},
   "outputs": [
    {
     "name": "stdout",
     "output_type": "stream",
     "text": [
      "=========================================================================================================\n",
      "Layer (type:depth-idx)                                  Output Shape              Param #\n",
      "=========================================================================================================\n",
      "UnetPlusPlus                                            [110, 1, 96, 320]         --\n",
      "├─MobileNetV3Encoder: 1-1                               [110, 1, 96, 320]         428,600\n",
      "├─UnetPlusPlusDecoder: 1-2                              [110, 16, 96, 320]        433,152\n",
      "├─SegmentationHead: 1-3                                 [110, 1, 96, 320]         145\n",
      "=========================================================================================================\n",
      "Total params: 861,897\n",
      "Trainable params: 861,897\n",
      "Non-trainable params: 0\n",
      "Total mult-adds (Units.GIGABYTES): 115.57\n",
      "=========================================================================================================\n",
      "Input size (MB): 27.03\n",
      "Forward/backward pass size (MB): 9983.85\n",
      "Params size (MB): 4.15\n",
      "Estimated Total Size (MB): 10015.03\n",
      "=========================================================================================================\n"
     ]
    }
   ],
   "source": [
    "from torchinfo import summary\n",
    "import segmentation_models_pytorch as smp\n",
    "\n",
    "import torch\n",
    "import torch.nn as nn\n",
    "\n",
    "device = torch.device(\"cuda\" if torch.cuda.is_available() else \"cpu\")\n",
    "\n",
    "# model = UNet(1, 1)\n",
    "model = smp.UnetPlusPlus(\n",
    "    encoder_name=\"timm-mobilenetv3_small_minimal_100\",\n",
    "    encoder_depth=4,\n",
    "    decoder_channels=(128, 64, 32, 16),\n",
    "    in_channels=1,\n",
    "    classes=1,\n",
    ")\n",
    "model = model.to(device)\n",
    "model.double()\n",
    "\n",
    "print(\n",
    "    summary(\n",
    "        model,\n",
    "        input_size=(110, 1, 96, 320),\n",
    "        depth=1,\n",
    "        dtypes=[torch.float64],\n",
    "        mode=\"train\",\n",
    "    )\n",
    ")"
   ]
  },
  {
   "cell_type": "code",
   "execution_count": 3,
   "metadata": {},
   "outputs": [
    {
     "data": {
      "text/plain": [
       "34452.34"
      ]
     },
     "execution_count": 3,
     "metadata": {},
     "output_type": "execute_result"
    }
   ],
   "source": [
    "34398.28 + 27.03 * 2"
   ]
  },
  {
   "cell_type": "code",
   "execution_count": null,
   "metadata": {},
   "outputs": [],
   "source": []
  }
 ],
 "metadata": {
  "kernelspec": {
   "display_name": "pyscf",
   "language": "python",
   "name": "python3"
  },
  "language_info": {
   "codemirror_mode": {
    "name": "ipython",
    "version": 3
   },
   "file_extension": ".py",
   "mimetype": "text/x-python",
   "name": "python",
   "nbconvert_exporter": "python",
   "pygments_lexer": "ipython3",
   "version": "3.11.5"
  }
 },
 "nbformat": 4,
 "nbformat_minor": 2
}
