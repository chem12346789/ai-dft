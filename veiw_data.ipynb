{
 "cells": [
  {
   "cell_type": "code",
   "execution_count": 23,
   "metadata": {},
   "outputs": [
    {
     "data": {
      "text/html": [
       "<div>\n",
       "<style scoped>\n",
       "    .dataframe tbody tr th:only-of-type {\n",
       "        vertical-align: middle;\n",
       "    }\n",
       "\n",
       "    .dataframe tbody tr th {\n",
       "        vertical-align: top;\n",
       "    }\n",
       "\n",
       "    .dataframe thead th {\n",
       "        text-align: right;\n",
       "    }\n",
       "</style>\n",
       "<table border=\"1\" class=\"dataframe\">\n",
       "  <thead>\n",
       "    <tr style=\"text-align: right;\">\n",
       "      <th></th>\n",
       "      <th>Unnamed: 0</th>\n",
       "      <th>mean</th>\n",
       "      <th>Methane_0_1_-0.2500</th>\n",
       "      <th>Methane_0_1_-0.2250</th>\n",
       "      <th>Methane_0_1_-0.2000</th>\n",
       "      <th>Methane_0_1_-0.1750</th>\n",
       "      <th>Methane_0_1_-0.1500</th>\n",
       "      <th>Methane_0_1_-0.1250</th>\n",
       "      <th>Methane_0_1_-0.1000</th>\n",
       "      <th>Methane_0_1_-0.0750</th>\n",
       "      <th>...</th>\n",
       "      <th>Benzene_1_3_0.0250</th>\n",
       "      <th>Benzene_1_3_0.0500</th>\n",
       "      <th>Benzene_1_3_0.0750</th>\n",
       "      <th>Benzene_1_3_0.1000</th>\n",
       "      <th>Benzene_1_3_0.1250</th>\n",
       "      <th>Benzene_1_3_0.1500</th>\n",
       "      <th>Benzene_1_3_0.1750</th>\n",
       "      <th>Benzene_1_3_0.2000</th>\n",
       "      <th>Benzene_1_3_0.2250</th>\n",
       "      <th>Benzene_1_3_0.2500</th>\n",
       "    </tr>\n",
       "  </thead>\n",
       "  <tbody>\n",
       "    <tr>\n",
       "      <th>0</th>\n",
       "      <td>0</td>\n",
       "      <td>35.982438</td>\n",
       "      <td>-17.091392</td>\n",
       "      <td>-25.071764</td>\n",
       "      <td>-30.180209</td>\n",
       "      <td>-32.137942</td>\n",
       "      <td>-36.253444</td>\n",
       "      <td>-36.560661</td>\n",
       "      <td>-34.394296</td>\n",
       "      <td>-27.638652</td>\n",
       "      <td>...</td>\n",
       "      <td>37.883885</td>\n",
       "      <td>38.290135</td>\n",
       "      <td>48.696185</td>\n",
       "      <td>79.252670</td>\n",
       "      <td>130.103109</td>\n",
       "      <td>129.757821</td>\n",
       "      <td>128.569684</td>\n",
       "      <td>134.545053</td>\n",
       "      <td>138.601183</td>\n",
       "      <td>141.624784</td>\n",
       "    </tr>\n",
       "    <tr>\n",
       "      <th>1</th>\n",
       "      <td>1</td>\n",
       "      <td>101.534946</td>\n",
       "      <td>52.819406</td>\n",
       "      <td>43.623997</td>\n",
       "      <td>37.810179</td>\n",
       "      <td>34.977081</td>\n",
       "      <td>32.284815</td>\n",
       "      <td>29.855248</td>\n",
       "      <td>29.912191</td>\n",
       "      <td>27.710519</td>\n",
       "      <td>...</td>\n",
       "      <td>148.908495</td>\n",
       "      <td>149.402308</td>\n",
       "      <td>155.708443</td>\n",
       "      <td>149.984548</td>\n",
       "      <td>147.656115</td>\n",
       "      <td>161.239204</td>\n",
       "      <td>176.048243</td>\n",
       "      <td>189.066442</td>\n",
       "      <td>197.289316</td>\n",
       "      <td>204.689594</td>\n",
       "    </tr>\n",
       "    <tr>\n",
       "      <th>2</th>\n",
       "      <td>2</td>\n",
       "      <td>46.411261</td>\n",
       "      <td>8.301292</td>\n",
       "      <td>17.825438</td>\n",
       "      <td>13.771341</td>\n",
       "      <td>11.400740</td>\n",
       "      <td>9.632852</td>\n",
       "      <td>4.778054</td>\n",
       "      <td>-0.841206</td>\n",
       "      <td>-1.415521</td>\n",
       "      <td>...</td>\n",
       "      <td>-1.768011</td>\n",
       "      <td>0.512047</td>\n",
       "      <td>-25.269480</td>\n",
       "      <td>-51.579448</td>\n",
       "      <td>14.263261</td>\n",
       "      <td>98.259928</td>\n",
       "      <td>133.836878</td>\n",
       "      <td>163.707218</td>\n",
       "      <td>189.323393</td>\n",
       "      <td>207.222719</td>\n",
       "    </tr>\n",
       "    <tr>\n",
       "      <th>3</th>\n",
       "      <td>3</td>\n",
       "      <td>33.611012</td>\n",
       "      <td>-45.320711</td>\n",
       "      <td>-34.066627</td>\n",
       "      <td>-31.478364</td>\n",
       "      <td>-29.814531</td>\n",
       "      <td>-28.803310</td>\n",
       "      <td>-27.731073</td>\n",
       "      <td>-29.436406</td>\n",
       "      <td>-27.257466</td>\n",
       "      <td>...</td>\n",
       "      <td>19.742707</td>\n",
       "      <td>21.326907</td>\n",
       "      <td>-49.677657</td>\n",
       "      <td>-105.398612</td>\n",
       "      <td>69.711213</td>\n",
       "      <td>-39.859351</td>\n",
       "      <td>-47.516980</td>\n",
       "      <td>-48.688141</td>\n",
       "      <td>-64.293921</td>\n",
       "      <td>-70.838978</td>\n",
       "    </tr>\n",
       "    <tr>\n",
       "      <th>4</th>\n",
       "      <td>4</td>\n",
       "      <td>23.557169</td>\n",
       "      <td>-22.301798</td>\n",
       "      <td>-21.074759</td>\n",
       "      <td>-17.406416</td>\n",
       "      <td>-14.021588</td>\n",
       "      <td>-11.465786</td>\n",
       "      <td>-8.519388</td>\n",
       "      <td>-6.263937</td>\n",
       "      <td>-3.936098</td>\n",
       "      <td>...</td>\n",
       "      <td>13.582523</td>\n",
       "      <td>15.563963</td>\n",
       "      <td>9.640249</td>\n",
       "      <td>8.545203</td>\n",
       "      <td>-14.529423</td>\n",
       "      <td>12.306871</td>\n",
       "      <td>18.747884</td>\n",
       "      <td>13.918846</td>\n",
       "      <td>9.433938</td>\n",
       "      <td>5.896843</td>\n",
       "    </tr>\n",
       "  </tbody>\n",
       "</table>\n",
       "<p>5 rows × 2301 columns</p>\n",
       "</div>"
      ],
      "text/plain": [
       "   Unnamed: 0        mean  Methane_0_1_-0.2500  Methane_0_1_-0.2250  \\\n",
       "0           0   35.982438           -17.091392           -25.071764   \n",
       "1           1  101.534946            52.819406            43.623997   \n",
       "2           2   46.411261             8.301292            17.825438   \n",
       "3           3   33.611012           -45.320711           -34.066627   \n",
       "4           4   23.557169           -22.301798           -21.074759   \n",
       "\n",
       "   Methane_0_1_-0.2000  Methane_0_1_-0.1750  Methane_0_1_-0.1500  \\\n",
       "0           -30.180209           -32.137942           -36.253444   \n",
       "1            37.810179            34.977081            32.284815   \n",
       "2            13.771341            11.400740             9.632852   \n",
       "3           -31.478364           -29.814531           -28.803310   \n",
       "4           -17.406416           -14.021588           -11.465786   \n",
       "\n",
       "   Methane_0_1_-0.1250  Methane_0_1_-0.1000  Methane_0_1_-0.0750  ...  \\\n",
       "0           -36.560661           -34.394296           -27.638652  ...   \n",
       "1            29.855248            29.912191            27.710519  ...   \n",
       "2             4.778054            -0.841206            -1.415521  ...   \n",
       "3           -27.731073           -29.436406           -27.257466  ...   \n",
       "4            -8.519388            -6.263937            -3.936098  ...   \n",
       "\n",
       "   Benzene_1_3_0.0250  Benzene_1_3_0.0500  Benzene_1_3_0.0750  \\\n",
       "0           37.883885           38.290135           48.696185   \n",
       "1          148.908495          149.402308          155.708443   \n",
       "2           -1.768011            0.512047          -25.269480   \n",
       "3           19.742707           21.326907          -49.677657   \n",
       "4           13.582523           15.563963            9.640249   \n",
       "\n",
       "   Benzene_1_3_0.1000  Benzene_1_3_0.1250  Benzene_1_3_0.1500  \\\n",
       "0           79.252670          130.103109          129.757821   \n",
       "1          149.984548          147.656115          161.239204   \n",
       "2          -51.579448           14.263261           98.259928   \n",
       "3         -105.398612           69.711213          -39.859351   \n",
       "4            8.545203          -14.529423           12.306871   \n",
       "\n",
       "   Benzene_1_3_0.1750  Benzene_1_3_0.2000  Benzene_1_3_0.2250  \\\n",
       "0          128.569684          134.545053          138.601183   \n",
       "1          176.048243          189.066442          197.289316   \n",
       "2          133.836878          163.707218          189.323393   \n",
       "3          -47.516980          -48.688141          -64.293921   \n",
       "4           18.747884           13.918846            9.433938   \n",
       "\n",
       "   Benzene_1_3_0.2500  \n",
       "0          141.624784  \n",
       "1          204.689594  \n",
       "2          207.222719  \n",
       "3          -70.838978  \n",
       "4            5.896843  \n",
       "\n",
       "[5 rows x 2301 columns]"
      ]
     },
     "execution_count": 23,
     "metadata": {},
     "output_type": "execute_result"
    }
   ],
   "source": [
    "import pandas as pd\n",
    "\n",
    "data = pd.read_csv(\"./validate-2024-05-08-13-18-55-200/train.csv\")\n",
    "# plt.plot(data['time'], data['value'])\n",
    "data"
   ]
  },
  {
   "cell_type": "code",
   "execution_count": 24,
   "metadata": {},
   "outputs": [
    {
     "name": "stdout",
     "output_type": "stream",
     "text": [
      "35.98243783572521\n",
      "33.520152312370485\n"
     ]
    },
    {
     "data": {
      "text/plain": [
       "<matplotlib.collections.PathCollection at 0x7c663de58050>"
      ]
     },
     "execution_count": 24,
     "metadata": {},
     "output_type": "execute_result"
    },
    {
     "data": {
      "image/png": "[encoded data removed]",
      "text/plain": [
       "<Figure size 640x480 with 1 Axes>"
      ]
     },
     "metadata": {
      "image/png": {
       "height": 413,
       "width": 560
      }
     },
     "output_type": "display_data"
    }
   ],
   "source": [
    "from matplotlib import pyplot as plt\n",
    "import numpy as np\n",
    "\n",
    "data_np = data.to_numpy()[0, 2 :]\n",
    "plt.scatter(np.zeros_like(data_np), data_np, s=10, marker=\"x\")\n",
    "data_np_sort = np.sort(data_np)\n",
    "print(np.mean(np.abs(data_np_sort)))\n",
    "\n",
    "data_remove = data_np_sort[:-3]\n",
    "print(np.mean(np.abs(data_remove)))\n",
    "plt.scatter(np.zeros_like(data_remove), data_remove, s=10, marker=\"x\", c=\"red\")"
   ]
  },
  {
   "cell_type": "code",
   "execution_count": 22,
   "metadata": {},
   "outputs": [
    {
     "name": "stdout",
     "output_type": "stream",
     "text": [
      "14.577594728369137\n",
      "13.124420522458408\n",
      "193.1980737020845\n"
     ]
    },
    {
     "data": {
      "image/png": "[encoded data removed]",
      "text/plain": [
       "<Figure size 640x480 with 1 Axes>"
      ]
     },
     "metadata": {
      "image/png": {
       "height": 413,
       "width": 552
      }
     },
     "output_type": "display_data"
    }
   ],
   "source": [
    "# from matplotlib import pyplot as plt\n",
    "# import numpy as np\n",
    "\n",
    "# data_np = data.to_numpy()[0, 2 : (21 * 2 * 3 - 5) * 10 + 2]\n",
    "# plt.scatter(np.zeros_like(data_np), data_np, s=10, marker='x')\n",
    "# data_np_sort = np.sort(data_np)\n",
    "# print(np.mean(np.abs(data_np_sort)))\n",
    "\n",
    "# data_remove = data_np_sort[:-3]\n",
    "# print(np.mean(np.abs(data_remove)))\n",
    "# plt.scatter(np.zeros_like(data_remove), data_remove, s=10, marker=\"x\", c=\"red\")\n",
    "\n",
    "# data_np_2 = data.to_numpy()[0, (21 * 2 * 3 - 5) * 10 + 2:]\n",
    "# print(np.mean(np.abs(data_np_2)))"
   ]
  },
  {
   "cell_type": "code",
   "execution_count": 21,
   "metadata": {},
   "outputs": [
    {
     "name": "stdout",
     "output_type": "stream",
     "text": [
      "[-0.25  -0.225 -0.2   -0.175 -0.15  -0.125 -0.1   -0.075 -0.05  -0.025\n",
      "  0.     0.025  0.05   0.075  0.1    0.125  0.15   0.175  0.2    0.225\n",
      "  0.25 ]\n",
      "[-0.25  -0.125  0.     0.125  0.25 ]\n"
     ]
    }
   ],
   "source": [
    "print(np.linspace(-0.25, 0.25, 21))\n",
    "print(np.linspace(-0.25, 0.25, 5))"
   ]
  },
  {
   "cell_type": "code",
   "execution_count": null,
   "metadata": {},
   "outputs": [],
   "source": []
  }
 ],
 "metadata": {
  "kernelspec": {
   "display_name": "pyscf",
   "language": "python",
   "name": "python3"
  },
  "language_info": {
   "codemirror_mode": {
    "name": "ipython",
    "version": 3
   },
   "file_extension": ".py",
   "mimetype": "text/x-python",
   "name": "python",
   "nbconvert_exporter": "python",
   "pygments_lexer": "ipython3",
   "version": "3.11.5"
  }
 },
 "nbformat": 4,
 "nbformat_minor": 2
}
